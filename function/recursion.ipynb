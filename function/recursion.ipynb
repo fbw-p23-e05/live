{
 "cells": [
  {
   "cell_type": "markdown",
   "metadata": {},
   "source": [
    "# Recursion\n",
    "\n",
    "- repeated application.\n",
    "- defining a problem in terms of itself.\n",
    "- \n"
   ]
  },
  {
   "cell_type": "code",
   "execution_count": 8,
   "metadata": {},
   "outputs": [
    {
     "data": {
      "text/plain": [
       "24"
      ]
     },
     "execution_count": 8,
     "metadata": {},
     "output_type": "execute_result"
    }
   ],
   "source": [
    "# the product of all the integers from 1 to that number\n",
    "def factorial(x):\n",
    "    \"\"\"Find the factorial of a given integer\"\"\"\n",
    "    if x == 1:\n",
    "        return 1\n",
    "    else:\n",
    "        return x * factorial(x - 1)\n",
    "\n",
    "factorial(4)\n",
    "\n",
    "# factorial(4) - 1st call with 4\n",
    "# 4 * factorial(3) - 2nd call with 3\n",
    "# 4 * 3 * factorial(2) - 3rd call with 2\n",
    "# 4 * 3 * 2 * factorial(1) - 4th call with 1\n",
    "# Terminates\n"
   ]
  },
  {
   "cell_type": "code",
   "execution_count": 6,
   "metadata": {},
   "outputs": [
    {
     "name": "stdout",
     "output_type": "stream",
     "text": [
      "24\n"
     ]
    }
   ],
   "source": [
    "result = 1\n",
    "for i in range(2, 5):\n",
    "    result *= i\n",
    "    \n",
    "print(result)"
   ]
  },
  {
   "cell_type": "code",
   "execution_count": 12,
   "metadata": {},
   "outputs": [
    {
     "name": "stdout",
     "output_type": "stream",
     "text": [
      "4\n",
      "3\n",
      "2\n",
      "1\n"
     ]
    }
   ],
   "source": [
    "def count_down(start):\n",
    "    \"\"\"Count down from a given number\"\"\"\n",
    "    if start == 0:\n",
    "        return 0\n",
    "    print(start)\n",
    "    count_down(start - 1)\n",
    "\n",
    "count_down(4)"
   ]
  },
  {
   "cell_type": "code",
   "execution_count": 19,
   "metadata": {},
   "outputs": [
    {
     "name": "stdout",
     "output_type": "stream",
     "text": [
      "5050\n"
     ]
    }
   ],
   "source": [
    "# calculate the sum of numbers from 1 to 100\n",
    "sum = 0\n",
    "for i in range(100):\n",
    "    i += 1\n",
    "    sum = i + sum\n",
    "print(sum)\n",
    "\n"
   ]
  },
  {
   "cell_type": "code",
   "execution_count": 21,
   "metadata": {},
   "outputs": [
    {
     "data": {
      "text/plain": [
       "5050"
      ]
     },
     "execution_count": 21,
     "metadata": {},
     "output_type": "execute_result"
    }
   ],
   "source": [
    "def sum(n):\n",
    "    if n > 0 :\n",
    "        return n + sum(n - 1)\n",
    "    else:\n",
    "        return 0\n",
    "\n",
    "sum(100)"
   ]
  },
  {
   "cell_type": "markdown",
   "metadata": {},
   "source": [
    "- The Python Interpreter limits the depths of recursion to help avoid infinite recursions, resulting in stack overflows.\n",
    "- By default the maximum depth of recursion is 1000.\n",
    "- If the limit is crossed it results `RecursionError`."
   ]
  },
  {
   "cell_type": "markdown",
   "metadata": {},
   "source": [
    "# Advantages of Recursion\n",
    "\n",
    "1. Recursive functions make the code look clean and elegant.\n",
    "2. A complex task can be broken down into simpler sub-tasks using recursion.\n",
    "3. sequnce generation is easier with recursion than using some nested iteration."
   ]
  },
  {
   "cell_type": "markdown",
   "metadata": {},
   "source": [
    "# Disadvantages\n",
    "\n",
    "1. Sometimes the logic is hard to follow.\n",
    "2. Recursive function calls are expensive/inefficient as they take up a lot of memory and time.\n",
    "3. Recursive functions are hard to debug."
   ]
  },
  {
   "cell_type": "markdown",
   "metadata": {},
   "source": [
    "### Extra Resources\n",
    "\n",
    "https://realpython.com/python-recursion/\n",
    "https://www.scaler.com/topics/python/recursion-in-python/\n",
    "https://www.tutorialspoint.com/How-can-we-create-recursive-functions-in-Python"
   ]
  },
  {
   "cell_type": "markdown",
   "metadata": {},
   "source": []
  }
 ],
 "metadata": {
  "kernelspec": {
   "display_name": ".venv",
   "language": "python",
   "name": "python3"
  },
  "language_info": {
   "codemirror_mode": {
    "name": "ipython",
    "version": 3
   },
   "file_extension": ".py",
   "mimetype": "text/x-python",
   "name": "python",
   "nbconvert_exporter": "python",
   "pygments_lexer": "ipython3",
   "version": "3.11.4"
  },
  "orig_nbformat": 4
 },
 "nbformat": 4,
 "nbformat_minor": 2
}
