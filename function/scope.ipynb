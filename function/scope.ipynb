{
 "cells": [
  {
   "cell_type": "markdown",
   "metadata": {},
   "source": [
    "# Variable Scope\n",
    "\n",
    "- Scope specifies the region where we can access a variable\n",
    "- We can classify Python variables into 3 types:\n",
    "    1. Local variables\n",
    "    2. Global variables\n",
    "    3. Nonlocal variables\n",
    "\n",
    "    "
   ]
  },
  {
   "cell_type": "markdown",
   "metadata": {},
   "source": [
    "## Local Variables\n",
    "\n",
    "- When we declare variables inside a function these variables will have local scope(within the function).\n",
    "- We cannot access them outside of the function."
   ]
  },
  {
   "cell_type": "code",
   "execution_count": 2,
   "metadata": {},
   "outputs": [
    {
     "name": "stdout",
     "output_type": "stream",
     "text": [
      "Local Hello!\n"
     ]
    },
    {
     "ename": "NameError",
     "evalue": "name 'message' is not defined",
     "output_type": "error",
     "traceback": [
      "\u001b[0;31m---------------------------------------------------------------------------\u001b[0m",
      "\u001b[0;31mNameError\u001b[0m                                 Traceback (most recent call last)",
      "\u001b[1;32m/home/mk16/Documents/Source Files/DCI/P23-E05/live/function/scope.ipynb Cell 3\u001b[0m line \u001b[0;36m1\n\u001b[1;32m      <a href='vscode-notebook-cell:/home/mk16/Documents/Source%20Files/DCI/P23-E05/live/function/scope.ipynb#W0sZmlsZQ%3D%3D?line=7'>8</a>\u001b[0m greeting()\n\u001b[1;32m     <a href='vscode-notebook-cell:/home/mk16/Documents/Source%20Files/DCI/P23-E05/live/function/scope.ipynb#W0sZmlsZQ%3D%3D?line=9'>10</a>\u001b[0m \u001b[39m# try to access the message variable\u001b[39;00m\n\u001b[0;32m---> <a href='vscode-notebook-cell:/home/mk16/Documents/Source%20Files/DCI/P23-E05/live/function/scope.ipynb#W0sZmlsZQ%3D%3D?line=10'>11</a>\u001b[0m \u001b[39mprint\u001b[39m(message)\n",
      "\u001b[0;31mNameError\u001b[0m: name 'message' is not defined"
     ]
    }
   ],
   "source": [
    "def greeting():\n",
    "    \n",
    "    # local variable\n",
    "    message = \"Hello!\"\n",
    "    \n",
    "    print(\"Local\", message)\n",
    "    \n",
    "greeting()\n",
    "\n",
    "# try to access the message variable\n",
    "print(message)"
   ]
  },
  {
   "cell_type": "markdown",
   "metadata": {},
   "source": [
    "## Global Variables\n",
    "- a variable that is defined outside of a function or global scope.\n",
    "- It can be accessed inside or outside of the function.\n"
   ]
  },
  {
   "cell_type": "code",
   "execution_count": 10,
   "metadata": {},
   "outputs": [
    {
     "name": "stdout",
     "output_type": "stream",
     "text": [
      "Local World!\n",
      "global World!\n"
     ]
    }
   ],
   "source": [
    "# Declare global variable\n",
    "message = \"Hello!\"\n",
    "\n",
    "def greeting():\n",
    "    message = \"World!\"\n",
    "    print(\"Local\", message)\n",
    "    \n",
    "    \n",
    "greeting()\n",
    "\n",
    "print(\"global\", message)"
   ]
  },
  {
   "cell_type": "markdown",
   "metadata": {},
   "source": [
    "## Nonlocal variables\n",
    "- these are used in nested functions whose local scope is not defined.\n",
    "- the variable can be neither in the local nor the global scope."
   ]
  },
  {
   "cell_type": "code",
   "execution_count": 18,
   "metadata": {},
   "outputs": [
    {
     "name": "stdout",
     "output_type": "stream",
     "text": [
      "inner nonlocal\n",
      "outer: nonlocal\n",
      "Global global\n"
     ]
    }
   ],
   "source": [
    "message_1 = \"global\"\n",
    "\n",
    "# outside function\n",
    "def outer():\n",
    "    message_1 = 'local'\n",
    "    \n",
    "    # nested function\n",
    "    def inner():\n",
    "        \n",
    "        # declare the nonlocal variable\n",
    "        nonlocal message_1\n",
    "        \n",
    "        message_1 = 'nonlocal'\n",
    "        print(\"inner\", message_1)\n",
    "        \n",
    "    inner()\n",
    "    print(\"outer:\", message_1)\n",
    "    \n",
    "outer()\n",
    "print(\"Global\", message_1)"
   ]
  },
  {
   "cell_type": "markdown",
   "metadata": {},
   "source": [
    "### Guidelines\n",
    "\n",
    "- When we create a variable inside a function it is local by default.\n",
    "- When we create a variable outside of a function it is global by default, we don't have to use the `global` keyword.\n",
    "- We use the `global` keyword to read and write  a global variable inside a function\n",
    "- Use of the `global` keyword outside of a function has no effect."
   ]
  },
  {
   "cell_type": "code",
   "execution_count": null,
   "metadata": {},
   "outputs": [],
   "source": []
  }
 ],
 "metadata": {
  "kernelspec": {
   "display_name": ".venv",
   "language": "python",
   "name": "python3"
  },
  "language_info": {
   "codemirror_mode": {
    "name": "ipython",
    "version": 3
   },
   "file_extension": ".py",
   "mimetype": "text/x-python",
   "name": "python",
   "nbconvert_exporter": "python",
   "pygments_lexer": "ipython3",
   "version": "3.11.4"
  },
  "orig_nbformat": 4
 },
 "nbformat": 4,
 "nbformat_minor": 2
}
