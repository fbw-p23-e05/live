{
 "cells": [
  {
   "cell_type": "markdown",
   "metadata": {},
   "source": [
    "# Function Arguments/Parameters\n",
    "\n",
    "- An argument is a value that is accepted by a function."
   ]
  },
  {
   "cell_type": "code",
   "execution_count": 2,
   "metadata": {},
   "outputs": [
    {
     "data": {
      "text/plain": [
       "12"
      ]
     },
     "execution_count": 2,
     "metadata": {},
     "output_type": "execute_result"
    }
   ],
   "source": [
    "def add_numbers(a, b):\n",
    "    sum = a + b\n",
    "    return sum\n",
    "\n",
    "add_numbers(4, 8)"
   ]
  },
  {
   "cell_type": "markdown",
   "metadata": {},
   "source": [
    "## Arguments with default values\n",
    "\n",
    "- We can assign a default value to an argument using the `=` operator."
   ]
  },
  {
   "cell_type": "code",
   "execution_count": 10,
   "metadata": {},
   "outputs": [
    {
     "data": {
      "text/plain": [
       "11"
      ]
     },
     "execution_count": 10,
     "metadata": {},
     "output_type": "execute_result"
    }
   ],
   "source": [
    "def add_numbers(a = 7, b = 9):\n",
    "    sum = a + b\n",
    "    return sum\n",
    "\n",
    "# function call with no arguments\n",
    "add_numbers() # 16\n",
    "\n",
    "# function call with 2 arguments\n",
    "add_numbers(5, 20) # 25\n",
    "\n",
    "# function call with 1 argument\n",
    "add_numbers(a = 2) # 11\n"
   ]
  },
  {
   "cell_type": "markdown",
   "metadata": {},
   "source": [
    "## Keyword Arguments\n"
   ]
  },
  {
   "cell_type": "code",
   "execution_count": 11,
   "metadata": {},
   "outputs": [
    {
     "data": {
      "text/plain": [
       "'MasonKuzi'"
      ]
     },
     "execution_count": 11,
     "metadata": {},
     "output_type": "execute_result"
    }
   ],
   "source": [
    "def display_info(first_name, last_name):\n",
    "    full_name = first_name + last_name\n",
    "    return full_name\n",
    "\n",
    "display_info(last_name=\"Kuzi\", first_name=\"Mason\")"
   ]
  },
  {
   "cell_type": "code",
   "execution_count": 13,
   "metadata": {},
   "outputs": [
    {
     "data": {
      "text/plain": [
       "20"
      ]
     },
     "execution_count": 13,
     "metadata": {},
     "output_type": "execute_result"
    }
   ],
   "source": [
    "def subtraction(num_1 = 5, num_2 = 1):\n",
    "    diff = num_1 - num_2\n",
    "    return diff\n",
    "\n",
    "subtraction(num_2=9, num_1=29)"
   ]
  },
  {
   "cell_type": "markdown",
   "metadata": {},
   "source": [
    "## Arbitrary Arguments\n",
    "- Used when we don't know the number of arguments that will be passed into a function.\n",
    "- To declare arbitrary arguments we use `*` before the parameter name."
   ]
  },
  {
   "cell_type": "code",
   "execution_count": 14,
   "metadata": {},
   "outputs": [
    {
     "data": {
      "text/plain": [
       "20"
      ]
     },
     "execution_count": 14,
     "metadata": {},
     "output_type": "execute_result"
    }
   ],
   "source": [
    "def add_numbers(*numbers):\n",
    "    result = 0\n",
    "    \n",
    "    for num in numbers:\n",
    "        result += num\n",
    "        \n",
    "    return result\n",
    "\n",
    "add_numbers(3, 4, 6, 7)    \n",
    "    "
   ]
  },
  {
   "cell_type": "code",
   "execution_count": 17,
   "metadata": {},
   "outputs": [
    {
     "data": {
      "text/plain": [
       "('Ajil', 'Monica', 'Johannes', 'Shilpa')"
      ]
     },
     "execution_count": 17,
     "metadata": {},
     "output_type": "execute_result"
    }
   ],
   "source": [
    "def list_names(*names):\n",
    "    \n",
    "    return names\n",
    "\n",
    "list_names(\"Ajil\", \"Monica\", \"Johannes\", \"Shilpa\")"
   ]
  },
  {
   "cell_type": "markdown",
   "metadata": {},
   "source": [
    "## *args and **kwargs"
   ]
  },
  {
   "cell_type": "code",
   "execution_count": 18,
   "metadata": {},
   "outputs": [
    {
     "name": "stdout",
     "output_type": "stream",
     "text": [
      "First name: Mason\n",
      "Last name: Kuzi\n",
      "Age: 97\n",
      "Profession: Developer\n"
     ]
    }
   ],
   "source": [
    "def profile(first_name, last_name, age, profession):\n",
    "    print(\"First name:\", first_name)\n",
    "    print(\"Last name:\", last_name)\n",
    "    print(\"Age:\", age)\n",
    "    print(\"Profession:\", profession)\n",
    "    \n",
    "profile(last_name=\"Kuzi\", first_name=\"Mason\", age=97, profession=\"Developer\")"
   ]
  },
  {
   "cell_type": "code",
   "execution_count": 22,
   "metadata": {},
   "outputs": [
    {
     "name": "stdout",
     "output_type": "stream",
     "text": [
      "first_name : Mason\n",
      "last_name : Kuzi\n",
      "age : 97\n",
      "phone_number : +29809872532\n"
     ]
    }
   ],
   "source": [
    "def profile(**data):\n",
    "    \n",
    "    for key, value in data.items():\n",
    "        print(key, \":\", value)\n",
    "\n",
    "profile(first_name=\"Mason\", last_name=\"Kuzi\", age=97, phone_number=\"+29809872532\")"
   ]
  },
  {
   "cell_type": "code",
   "execution_count": 28,
   "metadata": {},
   "outputs": [
    {
     "name": "stdout",
     "output_type": "stream",
     "text": [
      "args: <class 'tuple'>\n",
      "1\n",
      "Hello\n",
      "12.5\n",
      "Kwargs: <class 'dict'>\n",
      "first_name Mason\n",
      "age 97\n",
      "profession Developer\n"
     ]
    }
   ],
   "source": [
    "def example(*args, **kwargs):\n",
    "    print(\"args:\", type(args))\n",
    "    for item in args:\n",
    "        print(item)\n",
    "    \n",
    "    print(\"Kwargs:\", type(kwargs)) \n",
    "    for key, value in kwargs.items():\n",
    "        print(key, value)\n",
    "     \n",
    "example(1, \"Hello\", 12.5, first_name=\"Mason\", age=97, profession=\"Developer\")"
   ]
  },
  {
   "cell_type": "markdown",
   "metadata": {},
   "source": [
    "### Things to remember\n",
    "\n",
    "- `args` and `kwargs` are special keywords which allow functions to take a variable length argument.\n",
    "- `*args` passes a variable number of non-keyworded(positional) arguments and on which operations of a tuple can be performed.\n",
    "- `**kwargs` passes a variable number of keyworded arguments and on which dictionary operations can be performed \n",
    "- `*args` and `**kwargs` make the function flexible."
   ]
  },
  {
   "cell_type": "code",
   "execution_count": null,
   "metadata": {},
   "outputs": [],
   "source": []
  }
 ],
 "metadata": {
  "kernelspec": {
   "display_name": ".venv",
   "language": "python",
   "name": "python3"
  },
  "language_info": {
   "codemirror_mode": {
    "name": "ipython",
    "version": 3
   },
   "file_extension": ".py",
   "mimetype": "text/x-python",
   "name": "python",
   "nbconvert_exporter": "python",
   "pygments_lexer": "ipython3",
   "version": "3.11.4"
  },
  "orig_nbformat": 4
 },
 "nbformat": 4,
 "nbformat_minor": 2
}
