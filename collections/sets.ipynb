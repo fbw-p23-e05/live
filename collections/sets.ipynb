{
 "cells": [
  {
   "cell_type": "markdown",
   "metadata": {},
   "source": [
    "# Sets\n",
    "\n",
    "- A collection of unique data. \n",
    "> Elements of a set cannot be duplicate.\n",
    "\n",
    "- A set is always  unordered.\n",
    "\n",
    "#### Methods:\n",
    "| Function | Description |\n",
    "|----------|-------------|\n",
    "| `add()` | Adds an element to the set |\n",
    "| `all()` | Returns `True` if all elements of the set are true (or if the set is empty). |\n",
    "| `any()` | Returns `True` if any element of the set is true. If the set is empty, returns `False`. |\n",
    "| `clear()` | Removes all elements from the set |\n",
    "| `copy()` | Returns a copy of the set |\n",
    "| `difference()` | Returns the difference of two or more sets as a new set |\n",
    "| `difference_update()` | Removes all elements of another set from this set |\n",
    "| `discard()` | Removes an element from the set if it is a member. (Do nothing if the element is not in set) |\n",
    "| `enumerate()` | Returns an enumerate object. It contains the index and value for all the items of the set as a pair. |\n",
    "| `intersection()` | Returns the intersection of two sets as a new set | \n",
    "| `intersection_update()` | Updates the set with the intersection of itself and another |\n",
    "| `isdisjoint()` | Returns `True` if two sets have a null intersection |\n",
    "| `issubset()` | Returns `True` if another set contains this set |\n",
    "| `issuperset()` | Returns `True` if this set contains another set |\n",
    "| `len()` | Returns the length (the number of items) in the set. |\n",
    "| `max()` |\tReturns the largest item in the set. |\n",
    "| `min()` |\tReturns the smallest item in the set. |\n",
    "| `pop()` | Removes and returns an arbitrary set element. Raises `KeyError` if the set is empty |\n",
    "| `remove()` | Removes an element from the set. If the element is not a member, raises a `KeyError` |\n",
    "| `sorted()` | Returns a new sorted list from elements in the set(does not sort the set itself). |\n",
    "| `sum()` | Returns the sum of all elements in the set. |\n",
    "| `symmetric_difference()` | Returns the symmetric difference of two sets as a new set |\n",
    "| `symmetric_difference_update()` | Updates a set with the symmetric difference of itself and another |\n",
    "| `union()` | Returns the union of sets in a new set |\n",
    "| `update()` | Updates the set with the union of itself and others |\n"
   ]
  },
  {
   "cell_type": "markdown",
   "metadata": {},
   "source": [
    "## Create a set\n",
    "\n",
    "- We create sets by placing elements inside curly braces `{}`\n",
    "- A set can have any number of elements and of different data types:\n",
    "    - integer \n",
    "    - float\n",
    "    - tuple\n",
    "    - string\n",
    "- A set cannot have mutable elements like lists, sets or dictionaries."
   ]
  },
  {
   "cell_type": "code",
   "execution_count": 7,
   "metadata": {},
   "outputs": [
    {
     "name": "stdout",
     "output_type": "stream",
     "text": [
      "{1090, 1091, 1092, 1093, 1094}\n",
      "{'Ritu', 'Rida', 'Ajil', 'Andreas'}\n",
      "{102000.45, 1094, ('Mason', 'Jaman'), 'Frank'}\n"
     ]
    }
   ],
   "source": [
    "# set with integers\n",
    "student_ids = {1090, 1091, 1092, 1093, 1094}\n",
    "print(student_ids)\n",
    "\n",
    "# a set of strings\n",
    "employees = {'Rida', 'Ajil', 'Andreas', 'Ritu'}\n",
    "print(employees)\n",
    "\n",
    "# set with mixed data\n",
    "profile = {'Frank', 1094, 102000.45, ('Mason', 'Jaman')}\n",
    "print(profile)"
   ]
  },
  {
   "cell_type": "markdown",
   "metadata": {},
   "source": [
    "# Create an empty set \n",
    "\n",
    "> Empty curly braces `{}` by default will create a dictionary.\n",
    "- To make an empty set we use the set(), without any argument."
   ]
  },
  {
   "cell_type": "code",
   "execution_count": 9,
   "metadata": {},
   "outputs": [
    {
     "name": "stdout",
     "output_type": "stream",
     "text": [
      "<class 'set'>\n",
      "<class 'dict'>\n"
     ]
    }
   ],
   "source": [
    "# create an empty set\n",
    "empty_set = set()\n",
    "print(type(empty_set))\n",
    "\n",
    "empty_dictionary = {}\n",
    "print(type(empty_dictionary))"
   ]
  },
  {
   "cell_type": "markdown",
   "metadata": {},
   "source": [
    "# Duplicate items in a set\n",
    "\n",
    "- Elements in a set should be unique"
   ]
  },
  {
   "cell_type": "code",
   "execution_count": 10,
   "metadata": {},
   "outputs": [
    {
     "name": "stdout",
     "output_type": "stream",
     "text": [
      "{19876, 19877, 19878, 19879}\n"
     ]
    }
   ],
   "source": [
    "car_reg = {19876, 19877, 19877, 19878, 19879, 19879}\n",
    "print(car_reg)"
   ]
  },
  {
   "cell_type": "markdown",
   "metadata": {},
   "source": [
    "# Adding and updating sets in Python\n",
    "\n",
    "- Sets are mutable (they can be changed).\n",
    "- We cannot access or change elements of a set using indexing or slicing.\n"
   ]
  },
  {
   "cell_type": "code",
   "execution_count": 12,
   "metadata": {},
   "outputs": [
    {
     "name": "stdout",
     "output_type": "stream",
     "text": [
      "Initial set: {89, 67, 45, 23}\n",
      "Upadated set: {67, 102, 45, 23, 89}\n"
     ]
    }
   ],
   "source": [
    "# Adding items\n",
    "numbers = {23, 45, 67, 89}\n",
    "\n",
    "print(\"Initial set:\", numbers)\n",
    "\n",
    "# using add()\n",
    "numbers.add(102)\n",
    "\n",
    "print(\"Upadated set:\", numbers)"
   ]
  },
  {
   "cell_type": "markdown",
   "metadata": {},
   "source": [
    "## Update Python set\n",
    "\n",
    "- The update() method is used to update the set with items from other collection types (lists, sets, tuples, dictionaries, etc)."
   ]
  },
  {
   "cell_type": "code",
   "execution_count": 14,
   "metadata": {},
   "outputs": [
    {
     "name": "stdout",
     "output_type": "stream",
     "text": [
      "{'Google', 'Samsung', 'Toyota', 'Apple', 'Microsoft', 'Tencent', 'Huawei'}\n",
      "{1090, 1091, 1092, 1093, 1094, 1095, 1096, 1097}\n"
     ]
    }
   ],
   "source": [
    "companies = {'Apple', 'Tencent', 'Microsoft', 'Samsung'}\n",
    "new_companies = ['Huawei', 'Toyota', 'Google']\n",
    "\n",
    "# using the update() method\n",
    "companies.update(new_companies)\n",
    "\n",
    "print(companies)\n",
    "\n",
    "student_ids = {1090, 1091, 1092, 1093}\n",
    "new_students = (1094, 1095, 1096, 1097)\n",
    "\n",
    "student_ids.update(new_students)\n",
    "\n",
    "print(student_ids)"
   ]
  },
  {
   "cell_type": "markdown",
   "metadata": {},
   "source": [
    "# Remove an element from a set\n",
    "\n",
    "- we use the `discard()` method."
   ]
  },
  {
   "cell_type": "code",
   "execution_count": 15,
   "metadata": {},
   "outputs": [
    {
     "name": "stdout",
     "output_type": "stream",
     "text": [
      "Initial set: {'Ruby', 'Python', 'Java', 'Swift'}\n",
      "final set: {'Python', 'Java', 'Swift'}\n"
     ]
    }
   ],
   "source": [
    "languages = {'Swift', 'Java', 'Python', 'Ruby'}\n",
    "print('Initial set:', languages)\n",
    "\n",
    "# Remove 'Ruby' fom the set\n",
    "languages.discard('Ruby')\n",
    "\n",
    "print(\"final set:\", languages)"
   ]
  },
  {
   "cell_type": "markdown",
   "metadata": {},
   "source": [
    "# Iterating over a set in Python"
   ]
  },
  {
   "cell_type": "code",
   "execution_count": 16,
   "metadata": {},
   "outputs": [
    {
     "name": "stdout",
     "output_type": "stream",
     "text": [
      "mangoes\n",
      "pears\n",
      "apples\n",
      "oranges\n"
     ]
    }
   ],
   "source": [
    "fruits = {\"apples\", \"oranges\", \"pears\", \"mangoes\"}\n",
    "\n",
    "# for loop to access access each fruit\n",
    "for fruit in fruits:\n",
    "    print(fruit)"
   ]
  },
  {
   "cell_type": "markdown",
   "metadata": {},
   "source": [
    "# Finding the number of elements in a set\n",
    "\n",
    "- We use the `len()` function to find the number of elements in a set."
   ]
  },
  {
   "cell_type": "code",
   "execution_count": 18,
   "metadata": {},
   "outputs": [
    {
     "name": "stdout",
     "output_type": "stream",
     "text": [
      "{'mangoes', 'pears', 'oranges', 'apples'}\n",
      "4\n"
     ]
    }
   ],
   "source": [
    "fruits = {\"apples\", \"oranges\", \"pears\", \"mangoes\"}\n",
    "print(fruits)\n",
    "\n",
    "#Find the total number of elements\n",
    "print(len(fruits))\n"
   ]
  },
  {
   "cell_type": "markdown",
   "metadata": {},
   "source": [
    "# Set Operations\n",
    "\n",
    "- Python provides built-in methods for performing different mathematical set operations, for example:\n",
    "    - Union\n",
    "    - Intersection\n",
    "    - Subtraction\n",
    "    - Symmetric difference"
   ]
  },
  {
   "cell_type": "markdown",
   "metadata": {},
   "source": [
    "# Union of two sets\n",
    "\n",
    "- Includes all the elements of both sets.\n",
    "- We use `|` operator or the `union()` method to perform set union.\n"
   ]
  },
  {
   "cell_type": "code",
   "execution_count": 26,
   "metadata": {},
   "outputs": [
    {
     "name": "stdout",
     "output_type": "stream",
     "text": [
      "Union using |: {1, 3, 4, 5, 6, 7, 8, 9}\n",
      "Set a before: {1, 3, 5, 6, 7}\n",
      "Union using union(): {1, 3, 4, 5, 6, 7, 8, 9}\n",
      "Set a after: {1, 3, 5, 6, 7}\n"
     ]
    }
   ],
   "source": [
    "a = {1,3,5,6,7}\n",
    "b = {7,4,8,9}\n",
    "\n",
    "# perform union using |\n",
    "union_1 = a | b\n",
    "print(\"Union using |:\", union_1)\n",
    "print(\"Set a before:\", a) # set a not changed\n",
    "\n",
    "# using the union() method\n",
    "union_2 = a.union(b)\n",
    "print(\"Union using union():\", union_2)\n",
    "print(\"Set a after:\", a) # set a not"
   ]
  },
  {
   "cell_type": "markdown",
   "metadata": {},
   "source": [
    "# Set Intersection\n",
    "- Include the common elements of the two sets.\n",
    "- We use the `&` operator or the `intersection()` method.\n"
   ]
  },
  {
   "cell_type": "code",
   "execution_count": 32,
   "metadata": {},
   "outputs": [
    {
     "name": "stdout",
     "output_type": "stream",
     "text": [
      "{5, 7}\n",
      "Intersection using &: {5, 7}\n",
      "Intersection using intersection(): {5, 7}\n"
     ]
    }
   ],
   "source": [
    "a = {1,3,5,6,7}\n",
    "b = {7,4,8,9,5}\n",
    "\n",
    "# using &\n",
    "intersection_1 = a & b\n",
    "print(\"Intersection using &:\", intersection_1)\n",
    "\n",
    "# using the intersection() method\n",
    "intersection_2 = a.intersection(b)\n",
    "print(\"Intersection using intersection():\", intersection_2)\n",
    "\n",
    "\n"
   ]
  },
  {
   "cell_type": "markdown",
   "metadata": {},
   "source": [
    "# Difference between two sets\n",
    "- includes elements of one set that do no exist in the other set.\n",
    "- we us the `-` operator or the `difference()` method to perform the difference between 2 sets."
   ]
  },
  {
   "cell_type": "code",
   "execution_count": 37,
   "metadata": {},
   "outputs": [
    {
     "name": "stdout",
     "output_type": "stream",
     "text": [
      "Difference using -: {1, 2, 3}\n",
      "{8, 6, 7}\n",
      "Using difference(): {1, 2, 3}\n",
      "{8, 6, 7}\n"
     ]
    }
   ],
   "source": [
    "x = {1, 2, 3, 4, 5}\n",
    "y = {4, 5, 6, 7, 8}\n",
    "\n",
    "# using - \n",
    "diff_1 = x - y \n",
    "print(\"Difference using -:\", diff_1)\n",
    "\n",
    "diff_4 = y - x\n",
    "print(diff_4)\n",
    "\n",
    "# using the difference() method\n",
    "diff_2 = x.difference(y)\n",
    "print(\"Using difference():\", diff_2)\n",
    "\n",
    "diff_3 = y.difference(x)\n",
    "print(diff_3)"
   ]
  },
  {
   "cell_type": "markdown",
   "metadata": {},
   "source": [
    "# Set Symmentric Difference\n",
    "- includes all elements of both sets except for the common elements.\n",
    "- We use the `^` operator or the `symmetric_diffrence()` method."
   ]
  },
  {
   "cell_type": "code",
   "execution_count": 41,
   "metadata": {},
   "outputs": [
    {
     "name": "stdout",
     "output_type": "stream",
     "text": [
      "Symmetric difference using ^: {'COBOL', 'Python', 'Java', 'Swift', 'Ruby', 'Go'}\n",
      "{'COBOL', 'Python', 'Java', 'Swift', 'Ruby', 'Go'}\n",
      "Using symmetric_difference(): {'COBOL', 'Python', 'Java', 'Swift', 'Ruby', 'Go'}\n",
      "{'COBOL', 'Python', 'Java', 'Swift', 'Ruby', 'Go'}\n"
     ]
    }
   ],
   "source": [
    "c = {\"Java\", \"Python\", \"Swift\", \"C++\"}\n",
    "d = {\"C++\", \"Ruby\", \"Go\", \"COBOL\"}\n",
    "\n",
    "# using ^\n",
    "var_1 = c ^ d\n",
    "print(\"Symmetric difference using ^:\", var_1)\n",
    "\n",
    "var_2 = d ^ c\n",
    "print(var_2)\n",
    "\n",
    "# using the symmetric_difference() method\n",
    "var_3 = c.symmetric_difference(d)\n",
    "print(\"Using symmetric_difference():\", var_3)\n",
    "\n",
    "var_4 = d.symmetric_difference(c)\n",
    "print(var_4)\n",
    "\n"
   ]
  },
  {
   "cell_type": "markdown",
   "metadata": {},
   "source": [
    "# Check if two sets are equal\n",
    "- We can use the `==` operator to check if two sets are equal.\n",
    "- Result is a boolean value"
   ]
  },
  {
   "cell_type": "code",
   "execution_count": 46,
   "metadata": {},
   "outputs": [
    {
     "name": "stdout",
     "output_type": "stream",
     "text": [
      "None of the sets are equal\n"
     ]
    }
   ],
   "source": [
    "e = {102.5, 103.4, 107.8}\n",
    "d = {102.5, 103.4, 107.8}\n",
    "f = {102.5, 103.4, 112.6}\n",
    "\n",
    "# Check if sets are equal using ==\n",
    "if e == d:\n",
    "    print(\"Sets e and d are equal\")\n",
    "elif e == f:\n",
    "    print(\"Sets e and f are equal\")\n",
    "elif d == f:\n",
    "    print(\"Sets d and f are equal\")\n",
    "else:\n",
    "    print(\"None of the sets are equal\")"
   ]
  },
  {
   "cell_type": "code",
   "execution_count": 54,
   "metadata": {},
   "outputs": [
    {
     "name": "stdout",
     "output_type": "stream",
     "text": [
      "(1, 2, 3, 4)\n"
     ]
    }
   ],
   "source": [
    "set_1 = {\"HEllo\", \"World\", (1,2,3,4)}\n",
    "\n",
    "for i in set_1:\n",
    "    if type(i) == tuple:\n",
    "        my_tuple = i\n",
    "        print(my_tuple)\n",
    "    \n"
   ]
  },
  {
   "cell_type": "code",
   "execution_count": null,
   "metadata": {},
   "outputs": [],
   "source": []
  }
 ],
 "metadata": {
  "kernelspec": {
   "display_name": ".venv",
   "language": "python",
   "name": "python3"
  },
  "language_info": {
   "codemirror_mode": {
    "name": "ipython",
    "version": 3
   },
   "file_extension": ".py",
   "mimetype": "text/x-python",
   "name": "python",
   "nbconvert_exporter": "python",
   "pygments_lexer": "ipython3",
   "version": "3.11.4"
  },
  "orig_nbformat": 4
 },
 "nbformat": 4,
 "nbformat_minor": 2
}
