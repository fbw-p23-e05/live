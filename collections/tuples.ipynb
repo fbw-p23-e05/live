{
 "cells": [
  {
   "cell_type": "markdown",
   "metadata": {},
   "source": [
    "# Tuples\n",
    "\n",
    "- Tuples are similar to lists in Python.\n",
    "- Tuples are immutable(we cannot change the elements of a tuple once they are assigned)"
   ]
  },
  {
   "cell_type": "markdown",
   "metadata": {},
   "source": [
    "## Creating a Tuple\n",
    "\n",
    "- a tuple is created by placing all the elements in parentheses `()`\n",
    "- elements are separated by commas\n",
    "- The parentheses are optional but it is best practice to use them. \n",
    "- A tuple can have any number of elements and of different data types."
   ]
  },
  {
   "cell_type": "code",
   "execution_count": 8,
   "metadata": {},
   "outputs": [
    {
     "name": "stdout",
     "output_type": "stream",
     "text": [
      "()\n",
      "(1, 2, 3, 4)\n",
      "(1, 'Hello', 34.6, True)\n",
      "('Hello', [1, 2, 3], (True, False, 'World'), (1, 'Hello', 34.6, True))\n",
      "(1, 3, 6, 9)\n"
     ]
    }
   ],
   "source": [
    "# Empty tuple\n",
    "tuple_1 = ()\n",
    "print(tuple_1)\n",
    "\n",
    "# Tuple with integers\n",
    "tuple_2 = (1, 2, 3, 4)\n",
    "print(tuple_2)\n",
    "\n",
    "# Tuple with mixed data types\n",
    "tuple_3 = (1, \"Hello\", 34.6, True)\n",
    "print(tuple_3)\n",
    "\n",
    "# nested tuple\n",
    "tuple_4 = (\"Hello\", [1, 2, 3], (True, False, \"World\"), tuple_3)\n",
    "print(tuple_4)\n",
    "\n",
    "# Creating a tuple without parentheses\n",
    "tuple_5 = 1, 3, 6, 9\n",
    "print(tuple_5)"
   ]
  },
  {
   "cell_type": "markdown",
   "metadata": {},
   "source": [
    "## Creating a tuple with one element\n",
    "\n",
    "- Having an element inside parentheses is not enough.\n",
    "- We need to add a trailing comma to indicate that it is a tuple"
   ]
  },
  {
   "cell_type": "code",
   "execution_count": 11,
   "metadata": {},
   "outputs": [
    {
     "name": "stdout",
     "output_type": "stream",
     "text": [
      "<class 'str'>\n",
      "<class 'tuple'>\n",
      "<class 'tuple'>\n"
     ]
    }
   ],
   "source": [
    "var_1 = (\"Hello\")\n",
    "print(type(var_1)) # str\n",
    "\n",
    "var_2 = (\"World\",) \n",
    "print(type(var_2))  # tuple\n",
    "\n",
    "# Parentheses are optional\n",
    "var_3 = \"Python\",\n",
    "print(type(var_3))"
   ]
  },
  {
   "cell_type": "markdown",
   "metadata": {},
   "source": [
    "## Accessing tuple elements\n",
    "- We can use indexing to access tuple elements\n",
    "- The first element is at index 0\n",
    "- We use `[]` to access an item in a tuple.\n",
    "- If you specify an index that does not exist Python will raise the `IndexError` exception."
   ]
  },
  {
   "cell_type": "code",
   "execution_count": 19,
   "metadata": {},
   "outputs": [
    {
     "name": "stdout",
     "output_type": "stream",
     "text": [
      "o\n",
      "(True, False)\n",
      "False\n"
     ]
    }
   ],
   "source": [
    "# Indexing\n",
    "\n",
    "letters = ('p', 'y', 't', 'h', 'o', 'n', [1,2,4], (True, False))\n",
    "print(letters[4])\n",
    "\n",
    "# Accessing nested tuples\n",
    "print(letters[7])\n",
    "\n",
    "# Access elements inside the nested tuple\n",
    "print(letters[7][1])"
   ]
  },
  {
   "cell_type": "code",
   "execution_count": 23,
   "metadata": {},
   "outputs": [
    {
     "name": "stdout",
     "output_type": "stream",
     "text": [
      "[1, 2, 4]\n",
      "False\n",
      "[1, 2]\n"
     ]
    }
   ],
   "source": [
    "# Negative indexing\n",
    "letters = ('p', 'y', 't', 'h', 'o', 'n', [1,2,4], (True, False))\n",
    "print(letters[-2])\n",
    "\n",
    "# Nested elements\n",
    "print(letters[-1][-1])\n",
    "\n",
    "print(letters[-2][0:2])"
   ]
  },
  {
   "cell_type": "markdown",
   "metadata": {},
   "source": [
    "## Slicing\n",
    "- We can access a portion of a tuple using the slicing operator `:`"
   ]
  },
  {
   "cell_type": "code",
   "execution_count": 32,
   "metadata": {},
   "outputs": [
    {
     "name": "stdout",
     "output_type": "stream",
     "text": [
      "('y', 't', 'h')\n"
     ]
    },
    {
     "data": {
      "text/plain": [
       "([1, 2, 4], (True, False))"
      ]
     },
     "execution_count": 32,
     "metadata": {},
     "output_type": "execute_result"
    }
   ],
   "source": [
    "letters = ('p', 'y', 't', 'h', 'o', 'n', [1,2,4], (True, False))\n",
    "\n",
    "# access elements from index 1  to index 4\n",
    "print(letters[1:4])\n",
    "\n",
    "# access the last 2 elements\n",
    "letters[6:8]\n",
    "letters[6:]\n",
    "letters[-2:]"
   ]
  },
  {
   "cell_type": "markdown",
   "metadata": {},
   "source": [
    "# Python Tuple Methods\n",
    "\n",
    "- Methods to add or remove items are not available for tuples\n",
    "    - count() - returns the total number of occurrences for a given element\n",
    "    - index() - returns the first occurrence of a given element."
   ]
  },
  {
   "cell_type": "code",
   "execution_count": 38,
   "metadata": {},
   "outputs": [
    {
     "name": "stdout",
     "output_type": "stream",
     "text": [
      "7\n"
     ]
    },
    {
     "data": {
      "text/plain": [
       "1"
      ]
     },
     "execution_count": 38,
     "metadata": {},
     "output_type": "execute_result"
    }
   ],
   "source": [
    "# count()\n",
    "\n",
    "numbers = (1, 2, 2, 2, 2, 2, 2, 2, 4, 6, 7, 7, 9, 10, 112, (4, 5, 507))\n",
    "\n",
    "print(numbers.count(2))\n",
    "\n",
    "numbers[15].count(507)"
   ]
  },
  {
   "cell_type": "code",
   "execution_count": 36,
   "metadata": {},
   "outputs": [
    {
     "name": "stdout",
     "output_type": "stream",
     "text": [
      "10\n"
     ]
    }
   ],
   "source": [
    "# index()\n",
    "numbers = (1, 2, 2, 2, 2, 2, 2, 2, 4, 6, 7, 7, 9, 10, 112)\n",
    "\n",
    "numbers.index(10)\n"
   ]
  },
  {
   "cell_type": "markdown",
   "metadata": {},
   "source": [
    "# Iterating through a tuple\n",
    "\n",
    "- We can use a for loop to iterate through a tuple"
   ]
  },
  {
   "cell_type": "code",
   "execution_count": 39,
   "metadata": {},
   "outputs": [
    {
     "name": "stdout",
     "output_type": "stream",
     "text": [
      "It's\n",
      "Time\n",
      "For\n",
      "Lunch\n",
      "!\n"
     ]
    }
   ],
   "source": [
    "words = (\"It's\", \"Time\", \"For\", \"Lunch\", \"!\")\n",
    "\n",
    "for word in words:\n",
    "    print(word)"
   ]
  },
  {
   "cell_type": "markdown",
   "metadata": {},
   "source": [
    "# Checking if an item exists in a tuple\n",
    "\n",
    "- We use the keyword `in` to check if an elements exists in a tuple.\n"
   ]
  },
  {
   "cell_type": "code",
   "execution_count": 41,
   "metadata": {},
   "outputs": [
    {
     "name": "stdout",
     "output_type": "stream",
     "text": [
      "True\n",
      "Lunch\n"
     ]
    }
   ],
   "source": [
    "words = (\"It's\", \"Time\", \"For\", \"Lunch\", \"!\")\n",
    "\n",
    "print('Lunch' in words) # True\n",
    "\n",
    "for word in words:\n",
    "    if word == 'Lunch':\n",
    "        print(word)"
   ]
  },
  {
   "cell_type": "markdown",
   "metadata": {},
   "source": [
    "### Advantages of Tuple over List in Python\n",
    "Since tuples are quite similar to lists, both of them are used in similar situations.\n",
    "\n",
    "However, there are certain advantages of implementing a tuple over a list:\n",
    "\n",
    "- We generally use tuples for heterogeneous (different) data types and lists for homogeneous (similar) data types.\n",
    "- Since tuples are immutable, iterating through a tuple is faster than with a list. So there is a slight performance boost.\n",
    "- Tuples that contain immutable elements can be used as a key for a dictionary. With lists, this is not possible.\n",
    "- If you have data that doesn't change, implementing it as tuple will guarantee that it remains write-protected."
   ]
  },
  {
   "cell_type": "markdown",
   "metadata": {},
   "source": []
  }
 ],
 "metadata": {
  "kernelspec": {
   "display_name": ".venv",
   "language": "python",
   "name": "python3"
  },
  "language_info": {
   "codemirror_mode": {
    "name": "ipython",
    "version": 3
   },
   "file_extension": ".py",
   "mimetype": "text/x-python",
   "name": "python",
   "nbconvert_exporter": "python",
   "pygments_lexer": "ipython3",
   "version": "3.11.4"
  },
  "orig_nbformat": 4
 },
 "nbformat": 4,
 "nbformat_minor": 2
}
