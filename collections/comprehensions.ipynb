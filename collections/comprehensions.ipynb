{
 "cells": [
  {
   "cell_type": "markdown",
   "metadata": {},
   "source": [
    "# Comprehensions in Python\n",
    "\n",
    "- We can create new sequences using a given Python sequence. \n",
    "- It is basically a way of writing a concise code block to generate a new sequence (list, dictionary, set, etc) by using another sequence."
   ]
  },
  {
   "cell_type": "markdown",
   "metadata": {},
   "source": [
    "## List Comprehension\n"
   ]
  },
  {
   "cell_type": "code",
   "execution_count": 1,
   "metadata": {},
   "outputs": [
    {
     "name": "stdout",
     "output_type": "stream",
     "text": [
      "['p', 'y', 't', 'e', 'c', 'h']\n"
     ]
    }
   ],
   "source": [
    "string_1 = \"pytech\"\n",
    "letters = []\n",
    "\n",
    "for letter in string_1:\n",
    "    letters.append(letter)\n",
    "    \n",
    "print(letters)"
   ]
  },
  {
   "cell_type": "code",
   "execution_count": 4,
   "metadata": {},
   "outputs": [
    {
     "name": "stdout",
     "output_type": "stream",
     "text": [
      "['pp', 'yy', 'tt', 'ee', 'cc', 'hh']\n"
     ]
    }
   ],
   "source": [
    "string_1 = \"pytech\"\n",
    "letters = [letter * 2 for letter in string_1]\n",
    "print(letters)"
   ]
  },
  {
   "cell_type": "code",
   "execution_count": 5,
   "metadata": {},
   "outputs": [
    {
     "name": "stdout",
     "output_type": "stream",
     "text": [
      "['Python Rocks!', 'Java Rocks!', 'C Rocks!', 'COBOL Rocks!', 'Rust Rocks!', 'Go Rocks!']\n"
     ]
    }
   ],
   "source": [
    "languages = [\"Python\", \"Java\", \"C\", \"COBOL\", \"Rust\", \"Go\"]\n",
    "\n",
    "new_langs = [language + \" Rocks!\" for language in languages]\n",
    "print(new_langs)"
   ]
  },
  {
   "cell_type": "markdown",
   "metadata": {},
   "source": [
    "### Conditionals in List Comprehension"
   ]
  },
  {
   "cell_type": "code",
   "execution_count": 7,
   "metadata": {},
   "outputs": [
    {
     "name": "stdout",
     "output_type": "stream",
     "text": [
      "[0, 2, 4, 6, 8, 10, 12, 14, 16, 18, 20, 22, 24, 26, 28, 30]\n",
      "[0, 2, 4, 6, 8, 10, 12, 14, 16, 18, 20, 22, 24, 26, 28, 30]\n"
     ]
    }
   ],
   "source": [
    "# new list with even numbers between 0-30\n",
    "\n",
    "nums_list = [x for x in range(30 + 1) if x % 2 == 0]\n",
    "print(nums_list)\n",
    "\n",
    "nums_list = []\n",
    "for x in range(30 + 1):\n",
    "    if x % 2 == 0:\n",
    "        nums_list.append(x)\n",
    "print(nums_list)\n"
   ]
  },
  {
   "cell_type": "markdown",
   "metadata": {},
   "source": [
    "### Nested If with List Comprehension"
   ]
  },
  {
   "cell_type": "code",
   "execution_count": 9,
   "metadata": {},
   "outputs": [
    {
     "name": "stdout",
     "output_type": "stream",
     "text": [
      "[0, 10, 20, 30, 40, 50, 60, 70, 80, 90, 100]\n",
      "[0, 10, 20, 30, 40, 50, 60, 70, 80, 90, 100]\n"
     ]
    }
   ],
   "source": [
    "nums_list = [y for y in range(100 + 1) if y % 2 == 0 if y % 5 == 0]\n",
    "print(nums_list)\n",
    "\n",
    "nums_list = []\n",
    "\n",
    "for y in range(100 + 1):\n",
    "    if y % 2 == 0:\n",
    "        if y % 5 == 0:\n",
    "            nums_list.append(y)\n",
    "            \n",
    "print(nums_list)"
   ]
  },
  {
   "cell_type": "code",
   "execution_count": 12,
   "metadata": {},
   "outputs": [
    {
     "name": "stdout",
     "output_type": "stream",
     "text": [
      "['Even', 'Odd', 'Even', 'Odd', 'Even', 'Odd', 'Even', 'Odd', 'Even', 'Odd']\n",
      "['Even', 'Odd', 'Even', 'Odd', 'Even', 'Odd', 'Even', 'Odd', 'Even', 'Odd']\n"
     ]
    }
   ],
   "source": [
    "nums_list = [\"Even\" if i % 2 == 0 else \"Odd\" for i in range(10)]\n",
    "print(nums_list)\n",
    "\n",
    "nums_list = []\n",
    "for i in range(10):\n",
    "    if i % 2 == 0:\n",
    "        nums_list.append(\"Even\")\n",
    "    else:\n",
    "        nums_list.append(\"Odd\")\n",
    "print(nums_list)"
   ]
  },
  {
   "cell_type": "code",
   "execution_count": 13,
   "metadata": {},
   "outputs": [
    {
     "name": "stdout",
     "output_type": "stream",
     "text": [
      "[[1, 4], [2, 5], [3, 6], [4, 7]]\n"
     ]
    }
   ],
   "source": [
    "matrix = [[1, 2, 3, 4], \n",
    "          [4, 5, 6, 7]]\n",
    "transposed = []\n",
    "\n",
    "for i in range(len(matrix[0])): # 4 loops\n",
    "    transposed_row = []\n",
    "    \n",
    "    for row in matrix: # 2 loops\n",
    "        transposed_row.append(row[i])\n",
    "    transposed.append(transposed_row)\n",
    "    \n",
    "print(transposed) #[[1, 4], [2, 5], [3, 6], [4, 7]]\n",
    "    "
   ]
  },
  {
   "cell_type": "code",
   "execution_count": 16,
   "metadata": {},
   "outputs": [
    {
     "name": "stdout",
     "output_type": "stream",
     "text": [
      "[[1, 2, 3, 4], [4, 5, 6, 7]]\n"
     ]
    }
   ],
   "source": [
    "matrix = [[1, 4], \n",
    "          [2, 5], \n",
    "          [3, 6], \n",
    "          [4, 7]]\n",
    "\n",
    "transposed = [[row[i] for row in matrix] for i in range(2)]\n",
    "print(transposed)"
   ]
  },
  {
   "cell_type": "markdown",
   "metadata": {},
   "source": [
    "## Dictionary Comprehensions"
   ]
  },
  {
   "cell_type": "code",
   "execution_count": 17,
   "metadata": {},
   "outputs": [
    {
     "name": "stdout",
     "output_type": "stream",
     "text": [
      "{1: 1, 2: 4, 3: 9, 4: 16, 5: 25}\n"
     ]
    }
   ],
   "source": [
    "squares = dict()\n",
    "for num in range(1, 6):\n",
    "    squares[num] = num * num\n",
    "    \n",
    "print(squares)"
   ]
  },
  {
   "cell_type": "code",
   "execution_count": 18,
   "metadata": {},
   "outputs": [
    {
     "name": "stdout",
     "output_type": "stream",
     "text": [
      "{1: 1, 2: 4, 3: 9, 4: 16, 5: 25}\n"
     ]
    }
   ],
   "source": [
    "# {key: value for variable in iterable}\n",
    "squares = {num: num * num for num in range(1, 6)}\n",
    "print(squares)"
   ]
  },
  {
   "cell_type": "code",
   "execution_count": 25,
   "metadata": {},
   "outputs": [
    {
     "name": "stdout",
     "output_type": "stream",
     "text": [
      "dict_items([('Samsung', 500), ('Apple', 900), ('Xiaomi', 400), ('Nokia', 300)])\n",
      "dict_values([550, 950, 450, 350])\n"
     ]
    }
   ],
   "source": [
    "old_prices = {\"Samsung\": 500, \"Apple\": 900, \"Xiaomi\": 400, \"Nokia\": 300}\n",
    "print(old_prices.items())\n",
    "\n",
    "new_prices = {item: value + 50 for (item, value) in old_prices.items()}\n",
    "print(new_prices)"
   ]
  },
  {
   "cell_type": "markdown",
   "metadata": {},
   "source": [
    "### Conditionals in Dictionary Comprehensions\n"
   ]
  },
  {
   "cell_type": "code",
   "execution_count": 26,
   "metadata": {},
   "outputs": [
    {
     "name": "stdout",
     "output_type": "stream",
     "text": [
      "{'Datsun': 80000, 'BMW': 85000, 'Volkswagen': 75000}\n"
     ]
    }
   ],
   "source": [
    "old_mileage = {\"Datsun\": 80000, \"BMW\": 85000, \"Dodge\": 100000, \"Volkswagen\": 75000}\n",
    "\n",
    "car_choices = {key: value for key, value in old_mileage.items() if value < 100000}\n",
    "print(car_choices)"
   ]
  },
  {
   "cell_type": "code",
   "execution_count": 29,
   "metadata": {},
   "outputs": [
    {
     "name": "stdout",
     "output_type": "stream",
     "text": [
      "{'BMW': 85000, 'Nissan': 90000}\n",
      "{'BMW': 85000, 'Nissan': 90000}\n"
     ]
    }
   ],
   "source": [
    "mileage = {\"Datsun\": 80000, \"BMW\": 85000, \"Dodge\": 100000, \"Volkswagen\": 75000, \"Nissan\": 90000}\n",
    "\n",
    "car_choices = {key: value for key, value in mileage.items() if value < 100000 if value > 80000}\n",
    "print(car_choices)\n",
    "\n",
    "car_choices = {}\n",
    "for car in mileage:\n",
    "    if mileage[car] < 100000:\n",
    "        if mileage[car] > 80000:\n",
    "            car_choices[car] = mileage[car]\n",
    "            \n",
    "print(car_choices)\n",
    "        "
   ]
  },
  {
   "cell_type": "code",
   "execution_count": 32,
   "metadata": {},
   "outputs": [
    {
     "name": "stdout",
     "output_type": "stream",
     "text": [
      "{'Datsun': ('Mileage okay', 80000), 'BMW': ('Mileage okay', 85000), 'Dodge': ('Too high', 100000), 'Volkswagen': ('Mileage okay', 75000), 'Nissan': ('Mileage okay', 90000)}\n"
     ]
    }
   ],
   "source": [
    "mileage = {\"Datsun\": 80000, \"BMW\": 85000, \"Dodge\": 100000, \"Volkswagen\": 75000, \"Nissan\": 90000}\n",
    "\n",
    "car_choices = {key: (\"Too high\" if value >= 100000 else \"Mileage okay\") for key, value in mileage.items()}\n",
    "print(car_choices)"
   ]
  }
 ],
 "metadata": {
  "kernelspec": {
   "display_name": ".venv",
   "language": "python",
   "name": "python3"
  },
  "language_info": {
   "codemirror_mode": {
    "name": "ipython",
    "version": 3
   },
   "file_extension": ".py",
   "mimetype": "text/x-python",
   "name": "python",
   "nbconvert_exporter": "python",
   "pygments_lexer": "ipython3",
   "version": "3.11.4"
  },
  "orig_nbformat": 4
 },
 "nbformat": 4,
 "nbformat_minor": 2
}
