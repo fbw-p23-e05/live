{
 "cells": [
  {
   "cell_type": "markdown",
   "metadata": {},
   "source": [
    "# Lists\n",
    "\n",
    "- a collection of multiple written using `[]`\n",
    "- Lists can hold different data types at the same time.\n",
    "- Lists are a linear collection type.\n",
    "- They use indexes to access/read elements or objects."
   ]
  },
  {
   "cell_type": "code",
   "execution_count": 2,
   "metadata": {},
   "outputs": [
    {
     "name": "stdout",
     "output_type": "stream",
     "text": [
      "['Maximillian', 'Rida', 'Andreas', 'Sena']\n"
     ]
    }
   ],
   "source": [
    "# Create a list\n",
    "\n",
    "names = ['Maximillian', 'Rida', 'Andreas', 'Sena']\n",
    "print(names)"
   ]
  },
  {
   "cell_type": "code",
   "execution_count": 9,
   "metadata": {},
   "outputs": [
    {
     "name": "stdout",
     "output_type": "stream",
     "text": [
      "[]\n"
     ]
    }
   ],
   "source": [
    "# list with different data types\n",
    "list_1 = [2, 'Hello', 45.78, True]\n",
    "\n",
    "# list with duplicate\n",
    "list_2 = [1, \"World\", 4.5, \"World\"]\n",
    "\n",
    "# empty list \n",
    "list_3 = []\n",
    "\n",
    "# Using the list constructor\n",
    "list_4 = list()"
   ]
  },
  {
   "cell_type": "markdown",
   "metadata": {},
   "source": [
    "## Accessing List elements\n",
    "\n",
    "- Lists are ordered and each item is associated with an index.\n",
    "- Indexes start from 0.\n",
    "- Index increment from left to right by 1."
   ]
  },
  {
   "cell_type": "code",
   "execution_count": 13,
   "metadata": {},
   "outputs": [
    {
     "name": "stdout",
     "output_type": "stream",
     "text": [
      "['Python', 'C++', 'Java', 'COBOL', 'Ruby']\n",
      "Python\n",
      "Java\n"
     ]
    }
   ],
   "source": [
    "langauges = [\"Python\", \"C++\", \"Java\", \"COBOL\", \"Ruby\"]\n",
    "print(langauges)\n",
    "\n",
    "# access the item at index 0 (first item)\n",
    "print(langauges[0]) # Python\n",
    "\n",
    "# access the item at index 2 (third item)\n",
    "print(langauges[2]) # Java"
   ]
  },
  {
   "cell_type": "markdown",
   "metadata": {},
   "source": [
    "**Negative indexing**\n",
    "\n",
    "- the index of -1 refers to the last element in the list.\n",
    "- -2 refers to the second last element and so on."
   ]
  },
  {
   "cell_type": "code",
   "execution_count": 21,
   "metadata": {},
   "outputs": [
    {
     "name": "stdout",
     "output_type": "stream",
     "text": [
      "['Python', 'C++', 'Java', 'COBOL', 'Ruby']\n"
     ]
    },
    {
     "data": {
      "text/plain": [
       "'Java'"
      ]
     },
     "execution_count": 21,
     "metadata": {},
     "output_type": "execute_result"
    }
   ],
   "source": [
    "langauges = [\"Python\", \"C++\", \"Java\", \"COBOL\", \"Ruby\"]\n",
    "print(langauges)\n",
    "\n",
    "# access the last element (-1)\n",
    "langauges[-1] # Ruby\n",
    "\n",
    "# access the third from last element (-3)\n",
    "langauges[-3] # Java\n",
    "\n",
    "# Specifying an index that out of range\n",
    "# langauges[-6] # IndexError"
   ]
  },
  {
   "cell_type": "markdown",
   "metadata": {},
   "source": [
    "## Slicing of a List\n",
    "\n",
    "- accessing a portion of the list using the slicing operator `:`\n",
    "> When we slice lists, the start index is inclusive, but end index is exclusive."
   ]
  },
  {
   "cell_type": "code",
   "execution_count": 33,
   "metadata": {},
   "outputs": [
    {
     "data": {
      "text/plain": [
       "[1, 34, 56.8, True, False, 'Apple']"
      ]
     },
     "execution_count": 33,
     "metadata": {},
     "output_type": "execute_result"
    }
   ],
   "source": [
    "my_list = [\"Good\", \"Morning\", 1, 34, 56.8, True, False, \"Apple\"]\n",
    "\n",
    "# access items from index 2 to index 6\n",
    "my_list[2:6]\n",
    "\n",
    "# access items from index 4 to end\n",
    "my_list[4:]\n",
    "\n",
    "# access items from beginning to end\n",
    "my_list[:]\n",
    "my_list"
   ]
  },
  {
   "cell_type": "markdown",
   "metadata": {},
   "source": [
    "## Adding elements to a list\n",
    "\n",
    "- Lists are mutable (they can be changed). We can add and remove elements from a list.\n",
    "- Python lists have different methods to add items to a list:\n",
    "    - append() - adds an item to the end of the list\n",
    "    - extend() - add all the items of another iterable(lists, dictionaries, sets, tuples) to the end of the list.\n",
    "    - insert() - add an element to a specified index in the list."
   ]
  },
  {
   "cell_type": "code",
   "execution_count": 37,
   "metadata": {},
   "outputs": [
    {
     "name": "stdout",
     "output_type": "stream",
     "text": [
      "Before append: [1, 34, 56, 78, 100]\n",
      "After append: [1, 34, 56, 78, 100, 304]\n"
     ]
    }
   ],
   "source": [
    "# append() adds an item to the end of the list\n",
    "\n",
    "numbers = [1, 34, 56, 78, 100]\n",
    "\n",
    "print(\"Before append:\", numbers)\n",
    "\n",
    "# using append()\n",
    "numbers.append(304)\n",
    "\n",
    "print(\"After append:\", numbers)\n"
   ]
  },
  {
   "cell_type": "code",
   "execution_count": 41,
   "metadata": {},
   "outputs": [
    {
     "name": "stdout",
     "output_type": "stream",
     "text": [
      "After extending: [1, 3, 5, 7, 2, 4, 6, 8, 10]\n"
     ]
    }
   ],
   "source": [
    "# extend() - add all the items of another iterable(lists, dictionaries, sets, tuples) to the end of the list.\n",
    "numbers = [1, 3, 5, 7]\n",
    "even_numbers = [2, 4, 6, 8]\n",
    "\n",
    "# add even numbers to numbers list\n",
    "numbers.extend(even_numbers)\n",
    "numbers.extend([2, 4, 6, 8, 10])\n",
    "\n",
    "print(\"After extending:\", numbers)\n"
   ]
  },
  {
   "cell_type": "code",
   "execution_count": 42,
   "metadata": {},
   "outputs": [
    {
     "name": "stdout",
     "output_type": "stream",
     "text": [
      "[10, 20, 30, 40, 60, 70]\n"
     ]
    }
   ],
   "source": [
    "# insert() - add an element to a specified index in the list.\n",
    "\n",
    "numbers = [10, 30, 40, 60, 70]\n",
    "\n",
    "# insert element at index 1 (2nd positon)\n",
    "numbers.insert(1, 20)\n",
    "\n",
    "print(numbers)"
   ]
  },
  {
   "cell_type": "markdown",
   "metadata": {},
   "source": [
    "## Changing items in a list\n",
    "\n",
    "- we can change items in a list using the `=` operator"
   ]
  },
  {
   "cell_type": "code",
   "execution_count": 43,
   "metadata": {},
   "outputs": [
    {
     "name": "stdout",
     "output_type": "stream",
     "text": [
      "['Python', 'Swift', 'C', 'Go']\n"
     ]
    }
   ],
   "source": [
    "langauges = ['Python', 'Swift', 'C#', 'Go']\n",
    "\n",
    "# change the third item (2) to 'C'\n",
    "langauges[2] = 'C'\n",
    "\n",
    "print(langauges)"
   ]
  },
  {
   "cell_type": "markdown",
   "metadata": {},
   "source": [
    "## Remove items from a list\n",
    "\n",
    "- del statement\n",
    "- remove()"
   ]
  },
  {
   "cell_type": "code",
   "execution_count": 48,
   "metadata": {},
   "outputs": [
    {
     "name": "stdout",
     "output_type": "stream",
     "text": [
      "['Python', 'Go', 'Java', 'R', 'C++']\n",
      "['Python', 'Go', 'Java', 'R']\n",
      "['Java', 'R']\n"
     ]
    }
   ],
   "source": [
    "langauges = ['Python', 'Swift', 'Go', 'Java', 'R', 'C++']\n",
    "\n",
    "# delete the second item (1) \n",
    "del langauges[1] # delete Swift\n",
    "print(langauges)\n",
    "\n",
    "# delete the last item (-1)\n",
    "del langauges[-1] # delete C++\n",
    "print(langauges)\n",
    "\n",
    "# delete first 2 items [0:2]\n",
    "del langauges[0:2] # delete Python and Go\n",
    "print(langauges)"
   ]
  },
  {
   "cell_type": "code",
   "execution_count": 52,
   "metadata": {},
   "outputs": [
    {
     "name": "stdout",
     "output_type": "stream",
     "text": [
      "['Python', 'Swift', 'Java', 'R', 'C++', 'Go']\n"
     ]
    }
   ],
   "source": [
    "# remove() - deletes a specific list item.\n",
    "langauges = ['Python', 'Swift', 'Go', 'Java', 'R', 'C++', 'Go']\n",
    "\n",
    "# remove 'Go' for the list\n",
    "langauges.remove('Go')\n",
    "print(langauges)\n"
   ]
  },
  {
   "cell_type": "markdown",
   "metadata": {},
   "source": [
    "## Iterating through a list\n",
    "- We can use a for loop to access all the elements in a list."
   ]
  },
  {
   "cell_type": "code",
   "execution_count": 55,
   "metadata": {},
   "outputs": [
    {
     "name": "stdout",
     "output_type": "stream",
     "text": [
      "Python\n",
      "Swift\n",
      "R\n",
      "C++\n",
      "['Python', 'Swift', 'Java', 'R', 'C++']\n"
     ]
    }
   ],
   "source": [
    "langauges = ['Python', 'Swift', 'Go', 'Java', 'R', 'C++', 'Go']\n",
    "\n",
    "for language in langauges:\n",
    "    if language == 'Go':\n",
    "        langauges.remove(language)\n",
    "    else:\n",
    "        print(language)\n",
    "    \n",
    "print(langauges)"
   ]
  },
  {
   "cell_type": "code",
   "execution_count": null,
   "metadata": {},
   "outputs": [],
   "source": []
  }
 ],
 "metadata": {
  "kernelspec": {
   "display_name": "Python 3",
   "language": "python",
   "name": "python3"
  },
  "language_info": {
   "codemirror_mode": {
    "name": "ipython",
    "version": 3
   },
   "file_extension": ".py",
   "mimetype": "text/x-python",
   "name": "python",
   "nbconvert_exporter": "python",
   "pygments_lexer": "ipython3",
   "version": "3.11.4"
  },
  "orig_nbformat": 4
 },
 "nbformat": 4,
 "nbformat_minor": 2
}
