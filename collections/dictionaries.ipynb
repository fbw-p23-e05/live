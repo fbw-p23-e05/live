{
 "cells": [
  {
   "cell_type": "markdown",
   "metadata": {},
   "source": [
    "# Python Dictionary\n",
    "\n",
    "- a collection that allows us to store data in key-value pairs.\n",
    "- We use `{}` to create dictionaries. \n",
    "- Unlike sets we have some sort of indexing to access data inside the collection"
   ]
  },
  {
   "cell_type": "markdown",
   "metadata": {},
   "source": [
    "# Creating a dictionary\n",
    "\n",
    "- We create dictionaries by placing **key:value** pairs inside `{}`.\n",
    "- Each key:value pair is going to be separated by commas.\n",
    "- Dictionary keys must be immutable (cannot be changed), we can use tuples, strings, integers."
   ]
  },
  {
   "cell_type": "code",
   "execution_count": 3,
   "metadata": {},
   "outputs": [
    {
     "name": "stdout",
     "output_type": "stream",
     "text": [
      "{'United States': 'Washington D.C.', 'Turkey': 'Istanbul'}\n"
     ]
    },
    {
     "data": {
      "text/plain": [
       "dict"
      ]
     },
     "execution_count": 3,
     "metadata": {},
     "output_type": "execute_result"
    }
   ],
   "source": [
    "capital_cities = {\"United States\": \"Washington D.C.\", \"Turkey\": \"Ankara\"}\n",
    "print(capital_cities)\n",
    "\n",
    "# Create an empty dictionary\n",
    "employees = {}\n",
    "players = dict()\n",
    "\n",
    "type(players)"
   ]
  },
  {
   "cell_type": "markdown",
   "metadata": {},
   "source": [
    "-  Dictionary keys must be immutable (cannot be changed), we can use tuples, strings, integers."
   ]
  },
  {
   "cell_type": "code",
   "execution_count": 8,
   "metadata": {},
   "outputs": [
    {
     "name": "stdout",
     "output_type": "stream",
     "text": [
      "{1: 'Hello', (1, 2): 'World!', 'lang': ['Python', 'Java', 'Go']}\n",
      "{1: 'World!'}\n"
     ]
    }
   ],
   "source": [
    "# Valid Dictionary\n",
    "dict_1 = {\n",
    "    1: \"Hello\",\n",
    "    (1, 2): \"World!\",\n",
    "    \"lang\": [\"Python\", \"Java\", \"Go\"]\n",
    "}\n",
    "print(dict_1)\n",
    "\n",
    "# Invalid Dictionary\n",
    "dict_2 = {\n",
    "    1: \"Hello\",\n",
    "    [1, 3]: \"World!\",\n",
    "}\n",
    "print(dict_2) # TypeError"
   ]
  },
  {
   "cell_type": "markdown",
   "metadata": {},
   "source": [
    "# Python Dictionary Length\n",
    "- We can get the size of a dictionary using the `len()` function."
   ]
  },
  {
   "cell_type": "code",
   "execution_count": 11,
   "metadata": {},
   "outputs": [
    {
     "data": {
      "text/plain": [
       "4"
      ]
     },
     "execution_count": 11,
     "metadata": {},
     "output_type": "execute_result"
    }
   ],
   "source": [
    "phones = {\"Samsung\": \"Android\", \n",
    "          \"Apple\":{},\n",
    "          \"Nokia\": \"Android\",\n",
    "          \"Xiaomi\": \"Android\"\n",
    "          }\n",
    "len(phones)"
   ]
  },
  {
   "cell_type": "markdown",
   "metadata": {},
   "source": [
    "# Access Dictionary Items\n",
    "- We can access the values in a dictionary item by placing the key inside square brackets `[]`"
   ]
  },
  {
   "cell_type": "code",
   "execution_count": 14,
   "metadata": {},
   "outputs": [
    {
     "name": "stdout",
     "output_type": "stream",
     "text": [
      "Washington D.C.\n",
      "Ankara\n",
      "Pretoria\n"
     ]
    }
   ],
   "source": [
    "capital_cities = {\n",
    "    \"United States\": \"Washington D.C.\", \n",
    "    \"Turkey\": \"Ankara\",\n",
    "    \"Spain\": \"Madrid\",\n",
    "    \"England\": \"London\",\n",
    "    \"South Africa\": [\"Pretoria\", \"Johannesburg\"]\n",
    "    }\n",
    "\n",
    "# United States\n",
    "print(capital_cities[\"United States\"])\n",
    "\n",
    "# Turkey\n",
    "print(capital_cities[\"Turkey\"])\n",
    "\n",
    "# South Africa - Pretoria\n",
    "print(capital_cities[\"South Africa\"][0])"
   ]
  },
  {
   "cell_type": "code",
   "execution_count": 19,
   "metadata": {},
   "outputs": [
    {
     "data": {
      "text/plain": [
       "'Pretoria'"
      ]
     },
     "execution_count": 19,
     "metadata": {},
     "output_type": "execute_result"
    }
   ],
   "source": [
    "# get()\n",
    "\n",
    "capital_cities = {\n",
    "    \"United States\": \"Washington D.C.\", \n",
    "    \"Turkey\": \"Ankara\",\n",
    "    \"Spain\": \"Madrid\",\n",
    "    \"England\": \"London\",\n",
    "    \"South Africa\": [\"Pretoria\", \"Johannesburg\"]\n",
    "    }\n",
    "\n",
    "capital_cities.get(\"Spain\")\n",
    "capital_cities.get(\"England\")\n",
    "capital_cities.get(\"South Africa\")[0]"
   ]
  },
  {
   "cell_type": "markdown",
   "metadata": {},
   "source": [
    "# Changing Dictionary Items\n",
    "- Python dictionaries are mutable(**values** can be changed).\n",
    "- We change the value of an element by referring to its key."
   ]
  },
  {
   "cell_type": "code",
   "execution_count": 26,
   "metadata": {},
   "outputs": [
    {
     "name": "stdout",
     "output_type": "stream",
     "text": [
      "{'United States': 'Washington D.C.', 'Turkey': 'Ankara', 'Spain': 'Madrid', 'England': 'London', 'South Africa': ['Pretoria', 'Johannesburg']}\n",
      "{'United States': 'Washington D.C.', 'Turkey': 'Ankara', 'Spain': 'Madrid', 'England': 'London', 'South Africa': ['Pretoria', 'Johannesburg', 'B', 'l', 'o', 'e', 'm', 'f', 'o', 'n', 't', 'e', 'i', 'n']}\n"
     ]
    }
   ],
   "source": [
    "capital_cities = {\n",
    "    \"United States\": \"Washington D.C.\", \n",
    "    \"Turkey\": \"Ankara\",\n",
    "    \"Spain\": \"Madrid\",\n",
    "    \"England\": \"London\",\n",
    "    \"South Africa\": [\"Pretoria\", \"Johannesburg\"]\n",
    "    }\n",
    "print(capital_cities)\n",
    "\n",
    "capital_cities[\"South Africa\"] = \"Pretoria\"\n",
    "# capital_cities[\"South Africa\"].append(\"Bloemfontein\")\n",
    "print(capital_cities)\n"
   ]
  },
  {
   "cell_type": "markdown",
   "metadata": {},
   "source": [
    "# Adding items to a dictionary\n",
    "- We add items to a dictionary by assigning a value to a new key (that does not exist in the dictionary)"
   ]
  },
  {
   "cell_type": "code",
   "execution_count": 29,
   "metadata": {},
   "outputs": [
    {
     "name": "stdout",
     "output_type": "stream",
     "text": [
      "{'United States': 'Washington D.C.', 'Turkey': 'Ankara', 'Spain': 'Madrid', 'England': 'London', 'South Africa': ['Pretoria', 'Johannesburg']}\n",
      "{'United States': 'Washington D.C.', 'Turkey': 'Ankara', 'Spain': 'Madrid', 'England': 'London', 'South Africa': ['Pretoria', 'Johannesburg'], 'Germany': 'Berlin'}\n",
      "{'United States': 'Washington D.C.', 'Turkey': 'Ankara', 'Spain': 'Madrid', 'England': 'London', 'South Africa': ['Pretoria', 'Johannesburg'], 'Germany': 'Berlin', 'Spain2': 'Barcelona'}\n"
     ]
    }
   ],
   "source": [
    "capital_cities = {\n",
    "    \"United States\": \"Washington D.C.\", \n",
    "    \"Turkey\": \"Ankara\",\n",
    "    \"Spain\": \"Madrid\",\n",
    "    \"England\": \"London\",\n",
    "    \"South Africa\": [\"Pretoria\", \"Johannesburg\"]\n",
    "    }\n",
    "print(capital_cities)\n",
    "\n",
    "# Add Germany\n",
    "capital_cities[\"Germany\"] = \"Berlin\"\n",
    "print(capital_cities)"
   ]
  },
  {
   "cell_type": "markdown",
   "metadata": {},
   "source": [
    "# Remove Items from a Dictionary\n",
    "- We use the `del` statement to remove an element from the dictionary.\n"
   ]
  },
  {
   "cell_type": "code",
   "execution_count": 30,
   "metadata": {},
   "outputs": [
    {
     "name": "stdout",
     "output_type": "stream",
     "text": [
      "{'United States': 'Washington D.C.', 'Turkey': 'Ankara', 'Spain': 'Madrid', 'England': 'London', 'South Africa': ['Pretoria', 'Johannesburg']}\n",
      "{'Turkey': 'Ankara', 'Spain': 'Madrid', 'England': 'London', 'South Africa': ['Pretoria', 'Johannesburg']}\n"
     ]
    }
   ],
   "source": [
    "capital_cities = {\n",
    "    \"United States\": \"Washington D.C.\", \n",
    "    \"Turkey\": \"Ankara\",\n",
    "    \"Spain\": \"Madrid\",\n",
    "    \"England\": \"London\",\n",
    "    \"South Africa\": [\"Pretoria\", \"Johannesburg\"]\n",
    "    }\n",
    "print(capital_cities)\n",
    "\n",
    "# Delete United States\n",
    "del capital_cities[\"United States\"]\n",
    "print(capital_cities)"
   ]
  },
  {
   "cell_type": "markdown",
   "metadata": {},
   "source": [
    "- If we need to remove all items from a dictionary, we can use the `clear()` method."
   ]
  },
  {
   "cell_type": "code",
   "execution_count": 31,
   "metadata": {},
   "outputs": [
    {
     "name": "stdout",
     "output_type": "stream",
     "text": [
      "{'United States': 'Washington D.C.', 'Turkey': 'Ankara', 'Spain': 'Madrid', 'England': 'London', 'South Africa': ['Pretoria', 'Johannesburg']}\n",
      "{}\n"
     ]
    }
   ],
   "source": [
    "capital_cities = {\n",
    "    \"United States\": \"Washington D.C.\", \n",
    "    \"Turkey\": \"Ankara\",\n",
    "    \"Spain\": \"Madrid\",\n",
    "    \"England\": \"London\",\n",
    "    \"South Africa\": [\"Pretoria\", \"Johannesburg\"]\n",
    "    }\n",
    "print(capital_cities)\n",
    "\n",
    "capital_cities.clear()\n",
    "print(capital_cities)"
   ]
  },
  {
   "cell_type": "markdown",
   "metadata": {},
   "source": [
    "# Iterating through a Dictionary\n",
    "- A dictionary is an ordered collection, meaning it maintains the order in which items were inserted.\n",
    "- We can iterate through a dictionary using `for` loops.\n"
   ]
  },
  {
   "cell_type": "code",
   "execution_count": 39,
   "metadata": {},
   "outputs": [
    {
     "name": "stdout",
     "output_type": "stream",
     "text": [
      "United States\n",
      "Turkey\n",
      "Spain\n",
      "England\n",
      "South Africa\n",
      "Washington D.C.\n",
      "Ankara\n",
      "Madrid\n",
      "London\n",
      "['Pretoria', 'Johannesburg']\n",
      "('United States', 'Washington D.C.')\n",
      "('Turkey', 'Ankara')\n",
      "('Spain', 'Madrid')\n",
      "('England', 'London')\n",
      "('South Africa', ['Pretoria', 'Johannesburg'])\n"
     ]
    }
   ],
   "source": [
    "capital_cities = {\n",
    "    \"United States\": \"Washington D.C.\", \n",
    "    \"Turkey\": \"Ankara\",\n",
    "    \"Spain\": \"Madrid\",\n",
    "    \"England\": \"London\",\n",
    "    \"South Africa\": [\"Pretoria\", \"Johannesburg\"]\n",
    "    }\n",
    "\n",
    "for country in capital_cities:\n",
    "    print(country)\n",
    "    \n",
    "for country in capital_cities:\n",
    "    capital = capital_cities[country]\n",
    "    print(capital)\n",
    "\n",
    "for item in capital_cities.items():\n",
    "    print(item)"
   ]
  },
  {
   "cell_type": "markdown",
   "metadata": {},
   "source": [
    "# Checking if elements exist in a Dictionary\n",
    "\n",
    "We can check whether an element exists using the `in` operator"
   ]
  },
  {
   "cell_type": "code",
   "execution_count": 42,
   "metadata": {},
   "outputs": [
    {
     "name": "stdout",
     "output_type": "stream",
     "text": [
      "Hala Madrid!\n"
     ]
    }
   ],
   "source": [
    "capital_cities = {\n",
    "    \"United States\": \"Washington D.C.\", \n",
    "    \"Turkey\": \"Ankara\",\n",
    "    \"Spain\": \"Madrid\",\n",
    "    \"England\": \"London\",\n",
    "    \"South Africa\": [\"Pretoria\", \"Johannesburg\"]\n",
    "    }\n",
    "\n",
    "\"Spain\" in capital_cities \n",
    "\"South Africa\" not in capital_cities\n",
    "\"Japan\" in capital_cities\n",
    "\n",
    "if \"Spain\" in capital_cities:\n",
    "    print(\"Hala Madrid!\")"
   ]
  },
  {
   "cell_type": "markdown",
   "metadata": {},
   "source": [
    "# Nested Dictionaries"
   ]
  },
  {
   "cell_type": "code",
   "execution_count": 46,
   "metadata": {},
   "outputs": [
    {
     "name": "stdout",
     "output_type": "stream",
     "text": [
      "{'name': 'Maksym', 'profession': 'Developer', 'specialties': {'backend': 'Python', 'frontend': 'JavaScript', 'databases': 'PostgreSQL'}}\n"
     ]
    },
    {
     "data": {
      "text/plain": [
       "'JavaScript'"
      ]
     },
     "execution_count": 46,
     "metadata": {},
     "output_type": "execute_result"
    }
   ],
   "source": [
    "profile = {\n",
    "    \"name\": \"Maksym\",\n",
    "    \"profession\": \"Developer\",\n",
    "    \"specialties\": {\n",
    "        \"backend\": \"Python\",\n",
    "        \"frontend\": \"JavaScript\",\n",
    "        \"databases\": \"PostgreSQL\"        \n",
    "    }}\n",
    "print(profile)\n",
    "\n",
    "profile[\"specialties\"][\"frontend\"]"
   ]
  },
  {
   "cell_type": "code",
   "execution_count": null,
   "metadata": {},
   "outputs": [],
   "source": []
  }
 ],
 "metadata": {
  "kernelspec": {
   "display_name": ".venv",
   "language": "python",
   "name": "python3"
  },
  "language_info": {
   "codemirror_mode": {
    "name": "ipython",
    "version": 3
   },
   "file_extension": ".py",
   "mimetype": "text/x-python",
   "name": "python",
   "nbconvert_exporter": "python",
   "pygments_lexer": "ipython3",
   "version": "3.11.4"
  },
  "orig_nbformat": 4
 },
 "nbformat": 4,
 "nbformat_minor": 2
}
