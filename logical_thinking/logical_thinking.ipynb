{
 "cells": [
  {
   "cell_type": "code",
   "execution_count": 2,
   "metadata": {},
   "outputs": [],
   "source": [
    "x = False\n",
    "y = False\n",
    "\n",
    "if x or y:\n",
    "    print(\"Something happened\")"
   ]
  },
  {
   "cell_type": "code",
   "execution_count": 5,
   "metadata": {},
   "outputs": [
    {
     "name": "stdout",
     "output_type": "stream",
     "text": [
      "6\n"
     ]
    }
   ],
   "source": [
    "import random \n",
    "\n",
    "a = 0\n",
    "b = 0\n",
    "\n",
    "# check the randomly assigned value of a\n",
    "while a < 0.9 and b < 10:\n",
    "    \n",
    "    # count how many times the loop has run\n",
    "    b = b + 1\n",
    "    \n",
    "    # assign random float value to a\n",
    "    a = random.random()\n",
    "    \n",
    "print(b)"
   ]
  },
  {
   "cell_type": "code",
   "execution_count": 8,
   "metadata": {},
   "outputs": [
    {
     "name": "stdout",
     "output_type": "stream",
     "text": [
      "0\n",
      "1\n",
      "1\n",
      "2\n",
      "2\n",
      "3\n",
      "3\n",
      "4\n",
      "4\n",
      "5\n",
      "5\n",
      "6\n",
      "6\n"
     ]
    }
   ],
   "source": [
    "x = 0 \n",
    "y = 0\n",
    "\n",
    "while x <= 5 and y < 10:\n",
    "    print(x)\n",
    "    x = x + 1\n",
    "    print(x)\n",
    "    y = y + 1\n",
    "    \n",
    "print(y)"
   ]
  },
  {
   "cell_type": "code",
   "execution_count": 9,
   "metadata": {},
   "outputs": [
    {
     "name": "stdout",
     "output_type": "stream",
     "text": [
      "2\n"
     ]
    }
   ],
   "source": [
    "def is_odd(num):\n",
    "    if num % 2 != 0:\n",
    "        return True\n",
    "    else:\n",
    "        return False\n",
    "\n",
    "a = True\n",
    "b = 5\n",
    "c = 1\n",
    "\n",
    "while a and b < 10 and is_odd(c):\n",
    "    b += 1\n",
    "    c += 1\n",
    "    \n",
    "print(c)\n"
   ]
  },
  {
   "cell_type": "code",
   "execution_count": 13,
   "metadata": {},
   "outputs": [
    {
     "name": "stdout",
     "output_type": "stream",
     "text": [
      "3.5\n",
      "4.5\n",
      "5.5\n",
      "6.5\n"
     ]
    }
   ],
   "source": [
    "x = 1.2\n",
    "y = 3.5\n",
    "z = 5\n",
    "\n",
    "while x < 2 and (y < 4 or z > 3):\n",
    "    print(y)\n",
    "    y += 1\n",
    "    z -= 0.5\n",
    "    "
   ]
  },
  {
   "cell_type": "code",
   "execution_count": 17,
   "metadata": {},
   "outputs": [
    {
     "name": "stdout",
     "output_type": "stream",
     "text": [
      "0\n",
      "0\n",
      "True True\n",
      "2\n",
      "1.5\n",
      "True True\n",
      "4\n",
      "3.0\n",
      "False True\n",
      "3\n"
     ]
    }
   ],
   "source": [
    "x = 0\n",
    "y = 0\n",
    "z = 0\n",
    "\n",
    "while x < 3 and (y < 4 or z < 5): \n",
    "    print(y)\n",
    "    print(z)\n",
    "    x += 1\n",
    "    y += 2\n",
    "    z += 1.5\n",
    "    a = x < 3\n",
    "    b = (y < 4 or z < 5)\n",
    "    print(a, b)\n",
    "print(x)"
   ]
  },
  {
   "cell_type": "code",
   "execution_count": 27,
   "metadata": {},
   "outputs": [
    {
     "name": "stdout",
     "output_type": "stream",
     "text": [
      "Variable not set.\n",
      "False False False\n"
     ]
    }
   ],
   "source": [
    "a = \"\"\n",
    "b = []\n",
    "c = {}\n",
    "\n",
    "if a:\n",
    "    print(\"Variable is set\")\n",
    "else:\n",
    "    print(\"Variable not set.\")\n",
    "    print(bool(a), bool(b), bool(c))"
   ]
  },
  {
   "cell_type": "code",
   "execution_count": 28,
   "metadata": {},
   "outputs": [
    {
     "data": {
      "text/plain": [
       "True"
      ]
     },
     "execution_count": 28,
     "metadata": {},
     "output_type": "execute_result"
    }
   ],
   "source": [
    "True or 3"
   ]
  },
  {
   "cell_type": "code",
   "execution_count": 39,
   "metadata": {},
   "outputs": [
    {
     "data": {
      "text/plain": [
       "True"
      ]
     },
     "execution_count": 39,
     "metadata": {},
     "output_type": "execute_result"
    }
   ],
   "source": [
    "True and 3\n",
    "3 and True"
   ]
  },
  {
   "cell_type": "code",
   "execution_count": 36,
   "metadata": {},
   "outputs": [
    {
     "data": {
      "text/plain": [
       "False"
      ]
     },
     "execution_count": 36,
     "metadata": {},
     "output_type": "execute_result"
    }
   ],
   "source": [
    "not 3"
   ]
  },
  {
   "cell_type": "code",
   "execution_count": 38,
   "metadata": {},
   "outputs": [
    {
     "data": {
      "text/plain": [
       "3"
      ]
     },
     "execution_count": 38,
     "metadata": {},
     "output_type": "execute_result"
    }
   ],
   "source": [
    "False or 3"
   ]
  },
  {
   "cell_type": "code",
   "execution_count": null,
   "metadata": {},
   "outputs": [],
   "source": [
    "while a == True:\n",
    "    if a and b < 9:\n",
    "        print(\"Something\")\n",
    "    if is_odd(8):\n",
    "        print(\"Odd number\")"
   ]
  },
  {
   "cell_type": "code",
   "execution_count": 2,
   "metadata": {},
   "outputs": [
    {
     "name": "stdout",
     "output_type": "stream",
     "text": [
      "Unknown\n"
     ]
    }
   ],
   "source": [
    "user = input(\"Username: \") or \"Unknown\"\n",
    "print(user)"
   ]
  },
  {
   "cell_type": "code",
   "execution_count": 5,
   "metadata": {},
   "outputs": [],
   "source": [
    "a = 4\n",
    "b = 6\n",
    "c = 7\n",
    "\n",
    "while (a < 6 and b < 5 and c < 10):\n",
    "    print(\"We're in the loop.\")"
   ]
  },
  {
   "cell_type": "code",
   "execution_count": 9,
   "metadata": {},
   "outputs": [
    {
     "data": {
      "text/plain": [
       "False"
      ]
     },
     "execution_count": 9,
     "metadata": {},
     "output_type": "execute_result"
    }
   ],
   "source": [
    "a = 0\n",
    "b = 1\n",
    "\n",
    "a != 0 and (b / a) > 0"
   ]
  },
  {
   "cell_type": "code",
   "execution_count": 16,
   "metadata": {},
   "outputs": [],
   "source": [
    "import time\n",
    "\n",
    "def complex():\n",
    "    time.sleep(2)\n",
    "    return True\n",
    "\n",
    "def test():\n",
    "    simple = True\n",
    "    for i in range(0, 10):\n",
    "        if i >= 5:\n",
    "            simple = False\n",
    "        if complex() or simple:\n",
    "            break\n",
    "        \n",
    "test()"
   ]
  },
  {
   "cell_type": "code",
   "execution_count": 22,
   "metadata": {},
   "outputs": [],
   "source": [
    "a = 0.5\n",
    "b = 11\n",
    "\n",
    "def is_odd(num):\n",
    "    if num % 2 != 0:\n",
    "        return True\n",
    "    else:\n",
    "        return False\n",
    "\n",
    "while ((a < 0.9 and b < 10) or (not is_odd(7))):\n",
    "    print(\"Something happened\")"
   ]
  }
 ],
 "metadata": {
  "kernelspec": {
   "display_name": ".venv",
   "language": "python",
   "name": "python3"
  },
  "language_info": {
   "codemirror_mode": {
    "name": "ipython",
    "version": 3
   },
   "file_extension": ".py",
   "mimetype": "text/x-python",
   "name": "python",
   "nbconvert_exporter": "python",
   "pygments_lexer": "ipython3",
   "version": "3.11.4"
  }
 },
 "nbformat": 4,
 "nbformat_minor": 2
}
