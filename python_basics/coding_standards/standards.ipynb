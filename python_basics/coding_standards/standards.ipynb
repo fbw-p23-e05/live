{
 "cells": [
  {
   "cell_type": "markdown",
   "metadata": {},
   "source": [
    "**Coding standards**\n",
    "- https://en.wikipedia.org/wiki/The_Elements_of_Programming_Style\n",
    "\n",
    "**Python Style Recommendations**\n",
    "- https://www.python.org/dev/peps/pep-0008/ \n",
    "- https://www.python.org/dev/peps/pep-0257/"
   ]
  },
  {
   "cell_type": "code",
   "execution_count": null,
   "metadata": {},
   "outputs": [],
   "source": [
    "def hash_password():\n",
    "    pass\n",
    "\n",
    "user_name = input()\n",
    "\n",
    "password_hashing = hash_password()\n",
    "\n",
    "def verb_infinitive():\n",
    "    \"\"\"\"\"\"\n",
    "    # Next line\n",
    "    #\n",
    "    #\n",
    "    #\n",
    "    pass"
   ]
  },
  {
   "cell_type": "code",
   "execution_count": null,
   "metadata": {},
   "outputs": [],
   "source": [
    "def grntAccss(user):\n",
    "    if user != None:\n",
    "        pass\n",
    "    elif user == None:\n",
    "        print(\"User not defined\")\n",
    "\n",
    "def grant_access(x):\n",
    "    if x is not None:\n",
    "        pass\n",
    "    elif x is None:\n",
    "        print(\"User not defined\")\n",
    "        \n",
    "def grant_access(user):\n",
    "    if user != None:\n",
    "        pass\n",
    "    elif user == None:\n",
    "        print(\"User not defined\")"
   ]
  },
  {
   "cell_type": "code",
   "execution_count": 2,
   "metadata": {},
   "outputs": [
    {
     "data": {
      "text/plain": [
       "{0: 'User0',\n",
       " 1: 'User1',\n",
       " 2: 'User2',\n",
       " 3: 'User3',\n",
       " 4: 'User4',\n",
       " 5: 'User5',\n",
       " 6: 'User6',\n",
       " 7: 'User7',\n",
       " 8: 'User8',\n",
       " 9: 'User9'}"
      ]
     },
     "execution_count": 2,
     "metadata": {},
     "output_type": "execute_result"
    }
   ],
   "source": [
    "def save_to_db():\n",
    "    users = {{{{{{}}}}}}\n",
    "    \n",
    "    \n",
    "def save_to_database():\n",
    "    users = {}\n",
    "    for user_id in range(10):\n",
    "        users[user_id] = \"User\" + str(user_id)\n",
    "        \n",
    "    return users\n",
    "\n",
    "save_to_database()"
   ]
  },
  {
   "cell_type": "code",
   "execution_count": null,
   "metadata": {},
   "outputs": [],
   "source": [
    "import collections \n",
    "from datetime import date, time\n",
    "\n",
    "new_username = input()\n",
    "set_password = \"Pass\"\n",
    "SetPassword = \"Pass\" # illegal\n",
    "\n",
    "\n"
   ]
  },
  {
   "cell_type": "code",
   "execution_count": null,
   "metadata": {},
   "outputs": [],
   "source": [
    "def foo(**kwargs):\n",
    "    for item in kwargs.items():\n",
    "        print(item)\n",
    "        \n",
    "foo = foo(first_name=\"Mason\", last_name=\"Kuzi\", \n",
    "          age=19, residence=\"Rwanda\", hobby=\"Movies\", \n",
    "          sport=\"Football\")"
   ]
  },
  {
   "cell_type": "code",
   "execution_count": null,
   "metadata": {},
   "outputs": [],
   "source": [
    "def get_first_name(\n",
    "        arg1, arg2, arg3, arg4, kwarg1, \n",
    "        kwarg2):\n",
    "    pass\n",
    "\n",
    "\n",
    "def foo(**kwargs):\n",
    "    for item in kwargs.items():\n",
    "        print(item)\n",
    "        \n",
    "       \n",
    "class Car:\n",
    "    \n",
    "    def new_func():\n",
    "        pass\n",
    "    \n",
    "    def another_func():\n",
    "        pass\n",
    "\n",
    "\n",
    "class Dog:\n",
    "    pass"
   ]
  },
  {
   "cell_type": "code",
   "execution_count": 3,
   "metadata": {},
   "outputs": [
    {
     "data": {
      "text/plain": [
       "62.839999999999996"
      ]
     },
     "execution_count": 3,
     "metadata": {},
     "output_type": "execute_result"
    }
   ],
   "source": [
    "PI = 3.142\n",
    "def circle_circumference(radius=0):\n",
    "    result = 2 * PI * radius\n",
    "    return result\n",
    "\n",
    "circle_circumference(10)"
   ]
  },
  {
   "cell_type": "code",
   "execution_count": null,
   "metadata": {},
   "outputs": [],
   "source": [
    "class AnimalSpecies:\n",
    "    pass\n",
    "\n",
    "\n",
    "class AutoShop:\n",
    "    pass\n",
    "\n",
    "\n",
    "class PhoneShop:\n",
    "    pass"
   ]
  },
  {
   "cell_type": "code",
   "execution_count": null,
   "metadata": {},
   "outputs": [],
   "source": [
    "def create_users():\n",
    "    users = {{{{{{}}}}}}\n",
    "    \n",
    "def create_users():\n",
    "    users = {}\n",
    "    for user_id in range(1, 100):\n",
    "        users[user_id] = \"User \" + str(user_id)\n",
    "        for user in users:\n",
    "            print(user)\n",
    "            \n",
    "        "
   ]
  }
 ],
 "metadata": {
  "kernelspec": {
   "display_name": ".venv",
   "language": "python",
   "name": "python3"
  },
  "language_info": {
   "codemirror_mode": {
    "name": "ipython",
    "version": 3
   },
   "file_extension": ".py",
   "mimetype": "text/x-python",
   "name": "python",
   "nbconvert_exporter": "python",
   "pygments_lexer": "ipython3",
   "version": "3.11.4"
  }
 },
 "nbformat": 4,
 "nbformat_minor": 2
}
