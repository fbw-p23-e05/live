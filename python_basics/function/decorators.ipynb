{
 "cells": [
  {
   "cell_type": "markdown",
   "metadata": {},
   "source": [
    "# Python Decorators\n",
    "\n",
    "- A decorator is a design pattern that allows you to modify the functionality of a function by wrapping it in another function(decorator).\n",
    "- The outer is called the decorator and it takes the original function as an argument and returns a modified version of it."
   ]
  },
  {
   "cell_type": "markdown",
   "metadata": {},
   "source": [
    "### Prerequisites\n",
    "- Nested functions\n",
    "- Passing a function as an argument\n",
    "- Return a function as a value"
   ]
  },
  {
   "cell_type": "markdown",
   "metadata": {},
   "source": [
    "## Nested functions\n",
    "- including one function inside of another function(nesting)"
   ]
  },
  {
   "cell_type": "code",
   "execution_count": 6,
   "metadata": {},
   "outputs": [
    {
     "name": "stdout",
     "output_type": "stream",
     "text": [
      "11\n"
     ]
    }
   ],
   "source": [
    "def outer(x):\n",
    "    def inner(y):\n",
    "        return  x + y\n",
    "    return inner\n",
    "\n",
    "add_five = outer(5)\n",
    "result = add_five(6)\n",
    "print(result)"
   ]
  },
  {
   "cell_type": "markdown",
   "metadata": {},
   "source": [
    "## Passing functions as an argument\n",
    "\n"
   ]
  },
  {
   "cell_type": "code",
   "execution_count": 14,
   "metadata": {},
   "outputs": [
    {
     "name": "stdout",
     "output_type": "stream",
     "text": [
      "12\n"
     ]
    }
   ],
   "source": [
    "def add(x, y, z):\n",
    "    return x + y + z\n",
    "\n",
    "def calculate(func):\n",
    "    return func(2, 4, 6)\n",
    "\n",
    "result = calculate(add)\n",
    "print(result)"
   ]
  },
  {
   "cell_type": "markdown",
   "metadata": {},
   "source": [
    "### Returning a function as a value\n"
   ]
  },
  {
   "cell_type": "code",
   "execution_count": 17,
   "metadata": {},
   "outputs": [
    {
     "name": "stdout",
     "output_type": "stream",
     "text": [
      "Hello, SangDoo!\n"
     ]
    }
   ],
   "source": [
    "def greeting(name):\n",
    "    def hello():\n",
    "        return \"Hello, \" + name + \"!\"\n",
    "    return hello\n",
    "\n",
    "greet = greeting(\"SangDoo\")\n",
    "print(greet())"
   ]
  },
  {
   "cell_type": "markdown",
   "metadata": {},
   "source": [
    "### Decorators\n"
   ]
  },
  {
   "cell_type": "code",
   "execution_count": 22,
   "metadata": {},
   "outputs": [
    {
     "name": "stdout",
     "output_type": "stream",
     "text": [
      "I am getting decorated\n",
      "I am ordinary 2\n",
      "I got decorated\n"
     ]
    }
   ],
   "source": [
    "def make_pretty(func):\n",
    "    # define the inner function\n",
    "    def inner():\n",
    "        # add some additional behaviour to the decorated function\n",
    "        print(\"I am getting decorated\")\n",
    "        \n",
    "        # call the original function\n",
    "        func() # ordinary\n",
    "        \n",
    "        print(\"I got decorated\")\n",
    "        \n",
    "    # return the inner function\n",
    "    return inner\n",
    "\n",
    "# define the ordinary\n",
    "def ordinary():\n",
    "    print(\"I am ordinary!\")\n",
    "\n",
    "def ordinary_2():\n",
    "    print(\"I am ordinary 2\")\n",
    "\n",
    "# decorating the ordinary function\n",
    "decorated_func = make_pretty(ordinary_2)\n",
    "\n",
    "decorated_func()\n"
   ]
  },
  {
   "cell_type": "markdown",
   "metadata": {},
   "source": [
    "### @ symbol with decorator\n",
    "- instead assigning a function call to a variable we can use the @ symbol to decorate a function"
   ]
  },
  {
   "cell_type": "code",
   "execution_count": 44,
   "metadata": {},
   "outputs": [
    {
     "name": "stdout",
     "output_type": "stream",
     "text": [
      "I am getting decorated\n",
      "I am ordinary!\n",
      "I got decorated\n"
     ]
    }
   ],
   "source": [
    "def make_pretty(func):\n",
    "    # define the inner function\n",
    "    def inner():\n",
    "        # add some additional behaviour to the decorated function\n",
    "        print(\"I am getting decorated\")\n",
    "        \n",
    "        # call the original function\n",
    "        func() # ordinary\n",
    "        \n",
    "        print(\"I got decorated\")\n",
    "        \n",
    "    # return the inner function\n",
    "    return inner\n",
    "\n",
    "@make_pretty # decorated_func = make_pretty(ordinary)\n",
    "def ordinary():\n",
    "    print(\"I am ordinary!\")\n",
    "    \n",
    "    \n",
    "ordinary()"
   ]
  },
  {
   "cell_type": "markdown",
   "metadata": {},
   "source": [
    "### Decorating functions with parameters\n"
   ]
  },
  {
   "cell_type": "code",
   "execution_count": 33,
   "metadata": {},
   "outputs": [
    {
     "name": "stdout",
     "output_type": "stream",
     "text": [
      "I am dividing 2 and 5\n"
     ]
    },
    {
     "data": {
      "text/plain": [
       "0.4"
      ]
     },
     "execution_count": 33,
     "metadata": {},
     "output_type": "execute_result"
    }
   ],
   "source": [
    "def smart_divide(func):\n",
    "    def inner(x, y):\n",
    "        print(\"I am dividing\", x, \"and\", y)\n",
    "        if x == 0 or y == 0:\n",
    "            print(\"Whoops! Cannot divide by zero!\")\n",
    "            return \n",
    "        return func(x, y)\n",
    "    return inner\n",
    "\n",
    "@smart_divide\n",
    "def divide(a, b):\n",
    "    return a / b\n",
    "\n",
    "divide(2, 5)\n",
    "# divide(4, 0)"
   ]
  },
  {
   "cell_type": "markdown",
   "metadata": {},
   "source": [
    "### Chaining decorators\n",
    "- We can chain multiple decorators on one function.\n",
    "- We place decorators one after the other, with the most inner decorator being applied first"
   ]
  },
  {
   "cell_type": "code",
   "execution_count": 42,
   "metadata": {},
   "outputs": [
    {
     "name": "stdout",
     "output_type": "stream",
     "text": [
      "%%%%%%%%%%%%%%%\n",
      "***************\n",
      "Hello Jaime !\n",
      "***************\n",
      "%%%%%%%%%%%%%%%\n"
     ]
    }
   ],
   "source": [
    "def star(func):\n",
    "    def inner(*args, **kwargs):\n",
    "        print(\"*\" * 15)\n",
    "        func(*args, **kwargs)\n",
    "        print(\"*\" * 15)\n",
    "    return inner\n",
    "\n",
    "def percent(func):\n",
    "    def inner(*args, **kwargs):\n",
    "        print(\"%\" * 15)\n",
    "        func(*args, **kwargs)\n",
    "        print(\"%\" * 15)\n",
    "    return inner\n",
    "\n",
    "# @star\n",
    "# @percent # greet = star(percent(greeting))\n",
    "@percent\n",
    "@star\n",
    "def greeting(name):\n",
    "    print(\"Hello\", name, \"!\")\n",
    "    \n",
    "greeting(\"Jaime\")"
   ]
  },
  {
   "cell_type": "code",
   "execution_count": null,
   "metadata": {},
   "outputs": [],
   "source": []
  }
 ],
 "metadata": {
  "kernelspec": {
   "display_name": ".venv",
   "language": "python",
   "name": "python3"
  },
  "language_info": {
   "codemirror_mode": {
    "name": "ipython",
    "version": 3
   },
   "file_extension": ".py",
   "mimetype": "text/x-python",
   "name": "python",
   "nbconvert_exporter": "python",
   "pygments_lexer": "ipython3",
   "version": "3.11.4"
  },
  "orig_nbformat": 4
 },
 "nbformat": 4,
 "nbformat_minor": 2
}
