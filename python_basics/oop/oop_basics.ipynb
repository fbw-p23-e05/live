{
 "cells": [
  {
   "cell_type": "markdown",
   "metadata": {},
   "source": [
    "# OOP - Object Oriented Programming\n",
    "- This method of structuring a program by bundling related properties and behaviours into individual objects. \n",
    "- Components of a system. \n",
    "- An object is any entity that has attributes(features) and behaviours. \n",
    "For example:\n",
    "    - Car:\n",
    "        - Attributes:\n",
    "            - model name\n",
    "            - make\n",
    "            - colour\n",
    "            - fuel type\n",
    "        - Behaviours:\n",
    "            - Start engine\n",
    "            - Turn left\n",
    "            - Turn right\n",
    "            - Drift\n",
    "\n",
    "####\n",
    "\n",
    "- Defining a class - blueprint for creating an object\n",
    "- Use classes to create new objects.\n",
    "- Inheritance "
   ]
  },
  {
   "cell_type": "code",
   "execution_count": 6,
   "metadata": {},
   "outputs": [
    {
     "name": "stdout",
     "output_type": "stream",
     "text": [
      "\n",
      "2.5\n"
     ]
    }
   ],
   "source": [
    "# Creating a class - blueprint\n",
    "class Car:\n",
    "    \n",
    "    # class attributes\n",
    "    name = \"\"\n",
    "    colour = \"\"\n",
    "    engine_cap = 0.0\n",
    " \n",
    "# creating an object   \n",
    "bmw = Car()\n",
    "bmw.name = \"X6\"\n",
    "\n",
    "# creating an object\n",
    "suzuki = Car()\n",
    "suzuki.engine_cap = 2.5\n",
    "\n",
    "\n",
    "print(suzuki.name)\n",
    "print(suzuki.engine_cap)\n",
    "    "
   ]
  },
  {
   "cell_type": "code",
   "execution_count": 5,
   "metadata": {},
   "outputs": [],
   "source": [
    "class Rental:\n",
    "    \n",
    "    # class attributes\n",
    "    num_of_days = 0\n",
    "    insurance = False\n",
    "    customer_name = \"\"\n",
    "    self_drive = True\n",
    "\n",
    "# creating/ instantiating an object   \n",
    "rental_1 = Rental() # always with parentheses\n",
    "rental_1.num_of_days = 15\n",
    "rental_1.insurance = True\n",
    "rental_1.customer_name = \"Jonathan\"\n",
    "rental_1.self_drive = False\n",
    "    "
   ]
  },
  {
   "cell_type": "code",
   "execution_count": 8,
   "metadata": {},
   "outputs": [
    {
     "name": "stdout",
     "output_type": "stream",
     "text": [
      "Carnivorous\n"
     ]
    }
   ],
   "source": [
    "class Animal:\n",
    "    \n",
    "    # class attribute\n",
    "    tail = True\n",
    "    species = \"Default\"\n",
    "    \n",
    "    # Constructor method\n",
    "    def __init__(self):\n",
    "        # Instance/object attributes\n",
    "        self.diet = \"Herbivorous\"\n",
    "        self.name = \"Rabbit\"\n",
    "        \n",
    "rabbit = Animal()\n",
    "rabbit.diet = \"Carnivorous\"\n",
    "print(rabbit.diet)\n",
    "    \n",
    "    "
   ]
  },
  {
   "cell_type": "code",
   "execution_count": 14,
   "metadata": {},
   "outputs": [
    {
     "name": "stdout",
     "output_type": "stream",
     "text": [
      "Dell screen size: 15 inch\n"
     ]
    }
   ],
   "source": [
    "class Computer:\n",
    "    \n",
    "    def __init__(self, ram = \"\", storage = \"\", processor = \"\"):\n",
    "        # Instance attributes\n",
    "        self.screen_size = \"15 inch\"\n",
    "        # self.ram = \"\"\n",
    "        self.storage = storage\n",
    "        self.processor = processor\n",
    "        \n",
    "dell = Computer(storage=\"1TB\", processor=\"i9\")\n",
    "dell.processor\n",
    "\n",
    "# macbook = Computer()\n",
    "# macbook.storage\n",
    "\n",
    "print(\"Dell screen size:\", dell.screen_size)\n",
    "# print(\"MacBook screen size:\", macbook.screen_size)"
   ]
  },
  {
   "cell_type": "markdown",
   "metadata": {},
   "source": [
    "## OOP Concepts\n",
    "\n",
    "- Inheritance - is a way of creating a new class using the details of an existing class.\n",
    "- Polymorphism - taking more than one form\n",
    "- Encapsulation - bundling of attributes and methods inside a single class.\n",
    "- Abstraction"
   ]
  },
  {
   "cell_type": "code",
   "execution_count": 25,
   "metadata": {},
   "outputs": [
    {
     "name": "stdout",
     "output_type": "stream",
     "text": [
      "My name is Jack I am a Dog and I am eating.\n",
      "Woof, Woof!\n",
      "I love running!\n"
     ]
    }
   ],
   "source": [
    "## Inheritance\n",
    "\n",
    "# Parent/Base class\n",
    "class Animal:\n",
    "    \n",
    "    def __init__(self, species, diet, name):\n",
    "        self.species = species\n",
    "        self.diet = diet\n",
    "        self.name = name\n",
    "        \n",
    "    def eat(self):\n",
    "        print(\"My name is\", self.name, \"I am a\", self.species, \"and I am eating.\")\n",
    "    \n",
    "    def sleep(self):\n",
    "        print(\"My name is\", self.name, \"I am a\", self.species, \"and I am sleeping.\")\n",
    "        \n",
    "# Derived/Child class\n",
    "class Dog(Animal):\n",
    "    \n",
    "    def bark(self):\n",
    "        print(\"Woof, Woof!\")\n",
    "        \n",
    "    def run(self):\n",
    "        print(\"I love running!\")\n",
    "\n",
    "dog = Dog(\"Dog\", \"Carnivorous\", \"Jack\")\n",
    "dog.eat()\n",
    "dog.bark()\n",
    "dog.run()"
   ]
  },
  {
   "cell_type": "code",
   "execution_count": 32,
   "metadata": {},
   "outputs": [
    {
     "name": "stdout",
     "output_type": "stream",
     "text": [
      "This is the Exectuives report.\n",
      "None\n",
      "I'm the new reporting\n",
      "None\n"
     ]
    }
   ],
   "source": [
    "# Base\n",
    "class CompanySoftware:\n",
    "    \n",
    "    def __init__(self, dept_name, hod):\n",
    "        self.dept_name = dept_name\n",
    "        self.hod = hod\n",
    "        \n",
    "    def reporting(self):\n",
    "        print(\"This is the\", self.dept_name, \"report.\")\n",
    "        \n",
    "    def onboarding(self):\n",
    "        print(\"We are onboarding the new employee.\")\n",
    "\n",
    "# Child      \n",
    "class Accounting(CompanySoftware):\n",
    "    \n",
    "    acc_num = 102345\n",
    "    \n",
    "    def __init__(self):\n",
    "        pass\n",
    "    \n",
    "    def reporting(self):\n",
    "        print(\"I'm the new reporting\")\n",
    "    \n",
    "    def budgeting(self):\n",
    "        print(\"The company us limiting funds to $10000/department.\")\n",
    "\n",
    "# Child  \n",
    "class HumanResources(CompanySoftware):\n",
    "    \n",
    "    def hiring(self):\n",
    "        print(\"We have hired a new employee.\")\n",
    "\n",
    "company = CompanySoftware(\"Exectuives\", \"CEO\")\n",
    "accounting = Accounting()\n",
    "\n",
    "print(company.reporting())\n",
    "print(accounting.reporting())"
   ]
  },
  {
   "cell_type": "code",
   "execution_count": 9,
   "metadata": {},
   "outputs": [
    {
     "name": "stdout",
     "output_type": "stream",
     "text": [
      "1500\n"
     ]
    },
    {
     "ename": "AttributeError",
     "evalue": "'Computer' object has no attribute '__maxprice'",
     "output_type": "error",
     "traceback": [
      "\u001b[0;31m---------------------------------------------------------------------------\u001b[0m",
      "\u001b[0;31mAttributeError\u001b[0m                            Traceback (most recent call last)",
      "\u001b[1;32m/home/mk16/Documents/Source Files/DCI/P23-E05/live/oop/oop_basics.ipynb Cell 9\u001b[0m line \u001b[0;36m1\n\u001b[1;32m     <a href='vscode-notebook-cell:/home/mk16/Documents/Source%20Files/DCI/P23-E05/live/oop/oop_basics.ipynb#X12sZmlsZQ%3D%3D?line=15'>16</a>\u001b[0m lenovo\u001b[39m.\u001b[39mset_max_price(\u001b[39m1500\u001b[39m)\n\u001b[1;32m     <a href='vscode-notebook-cell:/home/mk16/Documents/Source%20Files/DCI/P23-E05/live/oop/oop_basics.ipynb#X12sZmlsZQ%3D%3D?line=16'>17</a>\u001b[0m lenovo\u001b[39m.\u001b[39msell()\n\u001b[0;32m---> <a href='vscode-notebook-cell:/home/mk16/Documents/Source%20Files/DCI/P23-E05/live/oop/oop_basics.ipynb#X12sZmlsZQ%3D%3D?line=17'>18</a>\u001b[0m lenovo\u001b[39m.\u001b[39;49m__maxprice\n",
      "\u001b[0;31mAttributeError\u001b[0m: 'Computer' object has no attribute '__maxprice'"
     ]
    }
   ],
   "source": [
    "### Encapsulation\n",
    "\n",
    "class Computer:\n",
    "    \n",
    "    def __init__(self):\n",
    "        # private attribute\n",
    "        self.__maxprice = 10000\n",
    "        \n",
    "    def sell(self):\n",
    "        print(self.__maxprice)\n",
    "    \n",
    "    # helper function\n",
    "    def set_max_price(self, price):\n",
    "        self.__maxprice = price\n",
    "        \n",
    "lenovo = Computer()\n",
    "lenovo.set_max_price(1500)\n",
    "lenovo.sell()\n",
    "lenovo.__maxprice\n"
   ]
  },
  {
   "cell_type": "code",
   "execution_count": 18,
   "metadata": {},
   "outputs": [
    {
     "name": "stdout",
     "output_type": "stream",
     "text": [
      "Prev width: 0\n",
      "New Width: 10\n",
      "Prev width: 0\n",
      "New Width: 20\n",
      "Width: 10\n",
      "Breadth: 20\n",
      "Area: 0\n"
     ]
    }
   ],
   "source": [
    "class Room: \n",
    "    \n",
    "    def __init__(self):\n",
    "        # private attributes\n",
    "        self.__width = 0\n",
    "        self.__breadth = 0\n",
    "        self.__area = 0\n",
    "        \n",
    "    def set_width(self, width):\n",
    "        print(\"Prev width:\", self.__width)\n",
    "        self.__width = width\n",
    "        print(\"New Width:\", self.__width)\n",
    "    \n",
    "    # helper functions\n",
    "    def set_breadth(self, breadth):\n",
    "        print(\"Prev width:\", self.__breadth)\n",
    "        self.__breadth = breadth\n",
    "        print(\"New Width:\", self.__breadth)\n",
    "        \n",
    "    def __calculate_area(self):\n",
    "        self.__area = self.__width * self.__breadth\n",
    "        \n",
    "    def print_metrics(self):\n",
    "        self.__calculate_area()\n",
    "        print(\"Width:\", self.__width)\n",
    "        print(\"Breadth:\", self.__breadth)\n",
    "        print(\"Area:\", self.__area)\n",
    "            \n",
    "room = Room()\n",
    "room.set_width(10)\n",
    "room.set_breadth(20)\n",
    "room.print_metrics()\n",
    "# print(\"Width:\", room.__width)\n",
    "# print(\"Breadth\", room.__breadth)"
   ]
  },
  {
   "cell_type": "code",
   "execution_count": 27,
   "metadata": {},
   "outputs": [
    {
     "name": "stdout",
     "output_type": "stream",
     "text": [
      "We are building an apartment.\n",
      "We are buidling a hospital\n",
      "This is the ER.\n",
      "We are building!\n"
     ]
    }
   ],
   "source": [
    "## Polymorphism\n",
    "\n",
    "class Building:\n",
    "    \n",
    "    # method to build\n",
    "    def build(self):\n",
    "        print(\"We are building!\")\n",
    "        \n",
    "    def build_2(self):\n",
    "        print(\"This is the second build.\")\n",
    "        \n",
    "class Hospital:\n",
    "    \n",
    "    def build(self):\n",
    "        print(\"We are buidling a hospital\")\n",
    "        \n",
    "    def emergency_room(self):\n",
    "        print(\"This is the ER.\")\n",
    "        \n",
    "class Apartment(Building):\n",
    "    \n",
    "    # builds an apartment\n",
    "    def build(self):\n",
    "        print(\"We are building an apartment.\")\n",
    "        \n",
    "class Mansion(Hospital, Apartment):\n",
    "    \n",
    "    # # builds a mansion\n",
    "    # def build(self):\n",
    "    #     print(\"We are building a mansion.\")\n",
    "    pass\n",
    "        \n",
    "class Hut(Building):\n",
    "    pass\n",
    "        \n",
    "apartment = Apartment()\n",
    "apartment.build()\n",
    "\n",
    "mansion = Mansion()\n",
    "mansion.build()\n",
    "mansion.emergency_room()\n",
    "\n",
    "hut = Hut()\n",
    "hut.build()"
   ]
  },
  {
   "cell_type": "markdown",
   "metadata": {},
   "source": [
    "## Key Points\n",
    "\n",
    "- Makes programs easy to understand and efficient.\n",
    "- Adheres to the DRY(Don't Repeat Yourself) principle - class is shareable and code can be reused.\n",
    "- Polymorphism allows the same interface for different objects.\n",
    "- Encapsulation is the packing of data and methods into a class so that you can hide the information and restrict access from outside.\n",
    "- Prefix an attribute with a single underscore(`_`) to make it private by convention.\n",
    "- Prefix an attribute with double underscores (`__`) to use name mangling."
   ]
  },
  {
   "cell_type": "code",
   "execution_count": null,
   "metadata": {},
   "outputs": [],
   "source": []
  }
 ],
 "metadata": {
  "kernelspec": {
   "display_name": ".venv",
   "language": "python",
   "name": "python3"
  },
  "language_info": {
   "codemirror_mode": {
    "name": "ipython",
    "version": 3
   },
   "file_extension": ".py",
   "mimetype": "text/x-python",
   "name": "python",
   "nbconvert_exporter": "python",
   "pygments_lexer": "ipython3",
   "version": "3.11.4"
  }
 },
 "nbformat": 4,
 "nbformat_minor": 2
}
