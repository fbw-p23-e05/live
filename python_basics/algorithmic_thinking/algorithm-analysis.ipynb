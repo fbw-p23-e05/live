{
 "cells": [
  {
   "cell_type": "code",
   "execution_count": 5,
   "metadata": {},
   "outputs": [
    {
     "data": {
      "text/plain": [
       "[1.0, 1.5, 2.0, 2.5, 3.0]"
      ]
     },
     "execution_count": 5,
     "metadata": {},
     "output_type": "execute_result"
    }
   ],
   "source": [
    "def prefix_averages(x: list[int]) -> list[int]:\n",
    "    # length of list\n",
    "\tn = len(x)\n",
    "    # an empty list\n",
    "\ta = []\n",
    "    \n",
    "    # loop running for each variable in the list\n",
    "\tfor i in range(0, n):\n",
    "        # initialize variable s\n",
    "\t\ts = 0\n",
    "\n",
    "        # loop running for i + 1\n",
    "\t\tfor j in range(0, i+1):\n",
    "\t\t\ts = s + x[j]\n",
    "\t\ta.append(s / (i + 1))\n",
    "\treturn a\n",
    "\n",
    "prefix_averages([1,2,3,4,5])"
   ]
  },
  {
   "cell_type": "code",
   "execution_count": 6,
   "metadata": {},
   "outputs": [
    {
     "data": {
      "text/plain": [
       "[1.0, 1.5, 2.0, 2.5, 3.0]"
      ]
     },
     "execution_count": 6,
     "metadata": {},
     "output_type": "execute_result"
    }
   ],
   "source": [
    "def prefix_averages(x: list[int]) -> list[int]:\n",
    "\tn = len(x)\n",
    "\ta = []\n",
    "\ts = 0\n",
    "\tfor i in range(0, n):\n",
    "\t\ts = s + x[i]\n",
    "\t\ta.append(s / (i + 1))\n",
    "\treturn a\n",
    "\n",
    "prefix_averages([1,2,3,4,5])"
   ]
  },
  {
   "cell_type": "code",
   "execution_count": 8,
   "metadata": {},
   "outputs": [
    {
     "data": {
      "text/plain": [
       "False"
      ]
     },
     "execution_count": 8,
     "metadata": {},
     "output_type": "execute_result"
    }
   ],
   "source": [
    "def x_contains_y(x: list[int], y: int) -> bool:\n",
    "\tn = len(x)\n",
    "\tfor i in range(0, n):\n",
    "\t\tif x[i] == y:\n",
    "\t\t\treturn True\n",
    "\treturn False\n",
    "\n",
    "x_contains_y([1,2,3,4,5,6,7,8,], 18)"
   ]
  },
  {
   "cell_type": "markdown",
   "metadata": {},
   "source": [
    "# Big-O notation\n",
    "- Big-O notation signifies the relationship between the input to the algorithm and the steps required to execute the algorithm.\n",
    "- O(n), O(log n)"
   ]
  },
  {
   "cell_type": "code",
   "execution_count": 11,
   "metadata": {},
   "outputs": [
    {
     "data": {
      "text/plain": [
       "30414093201713378043612608166064768844377641568960512000000000000"
      ]
     },
     "execution_count": 11,
     "metadata": {},
     "output_type": "execute_result"
    }
   ],
   "source": [
    "def fact(n):\n",
    "    product = 1\n",
    "    for i in range(n):\n",
    "        product = product * (i + 1)\n",
    "    return product\n",
    "\n",
    "fact(50)"
   ]
  },
  {
   "cell_type": "markdown",
   "metadata": {},
   "source": [
    "- O(n): at n = 1, 1 step is taken. at n = 10, 10 steps are taken.\n",
    "- O(n2): at n = 1, 1 step is taken. At n = 10, 100 steps are taken."
   ]
  },
  {
   "cell_type": "code",
   "execution_count": 12,
   "metadata": {},
   "outputs": [
    {
     "name": "stdout",
     "output_type": "stream",
     "text": [
      "1\n",
      "2\n",
      "3\n",
      "4\n",
      "5\n",
      "6\n"
     ]
    }
   ],
   "source": [
    "# the number of iterations for the for loop will be equal to the size of the list O(n)\n",
    "def linear(items):\n",
    "    for item in items:\n",
    "        print(item)\n",
    "        \n",
    "linear([1,2,3,4,5,6])"
   ]
  },
  {
   "cell_type": "code",
   "execution_count": 14,
   "metadata": {},
   "outputs": [
    {
     "name": "stdout",
     "output_type": "stream",
     "text": [
      "1\n",
      "2\n",
      "3\n",
      "4\n",
      "5\n",
      "6\n",
      "7\n",
      "8\n",
      "1\n",
      "2\n",
      "3\n",
      "4\n",
      "5\n",
      "6\n",
      "7\n",
      "8\n"
     ]
    }
   ],
   "source": [
    "def linear_2(items):\n",
    "    for item in items:\n",
    "        print(item)\n",
    "        \n",
    "    for item in items:\n",
    "        print(item)\n",
    "        \n",
    "linear_2([1,2,3,4,5,6,7,8])"
   ]
  },
  {
   "cell_type": "code",
   "execution_count": 13,
   "metadata": {},
   "outputs": [
    {
     "name": "stdout",
     "output_type": "stream",
     "text": [
      "1 1\n",
      "1 2\n",
      "1 3\n",
      "1 4\n",
      "1 5\n",
      "1 6\n",
      "1 7\n",
      "1 8\n",
      "2 1\n",
      "2 2\n",
      "2 3\n",
      "2 4\n",
      "2 5\n",
      "2 6\n",
      "2 7\n",
      "2 8\n",
      "3 1\n",
      "3 2\n",
      "3 3\n",
      "3 4\n",
      "3 5\n",
      "3 6\n",
      "3 7\n",
      "3 8\n",
      "4 1\n",
      "4 2\n",
      "4 3\n",
      "4 4\n",
      "4 5\n",
      "4 6\n",
      "4 7\n",
      "4 8\n",
      "5 1\n",
      "5 2\n",
      "5 3\n",
      "5 4\n",
      "5 5\n",
      "5 6\n",
      "5 7\n",
      "5 8\n",
      "6 1\n",
      "6 2\n",
      "6 3\n",
      "6 4\n",
      "6 5\n",
      "6 6\n",
      "6 7\n",
      "6 8\n",
      "7 1\n",
      "7 2\n",
      "7 3\n",
      "7 4\n",
      "7 5\n",
      "7 6\n",
      "7 7\n",
      "7 8\n",
      "8 1\n",
      "8 2\n",
      "8 3\n",
      "8 4\n",
      "8 5\n",
      "8 6\n",
      "8 7\n",
      "8 8\n"
     ]
    }
   ],
   "source": [
    "# O(n-squared)\n",
    "def quadratic(items):\n",
    "    for item in items:\n",
    "        for item2 in items:\n",
    "            print(item, item2)\n",
    "            \n",
    "quadratic([1,2,3,4,5,6,7,8])"
   ]
  },
  {
   "cell_type": "code",
   "execution_count": 18,
   "metadata": {},
   "outputs": [
    {
     "name": "stdout",
     "output_type": "stream",
     "text": [
      "The ABC of Blockchain : 10\n",
      "The ABC of JavaScript : 3254\n",
      "The XYZ of JavaScript : 226\n"
     ]
    },
    {
     "ename": "KeyError",
     "evalue": "'reads'",
     "output_type": "error",
     "traceback": [
      "\u001b[0;31m---------------------------------------------------------------------------\u001b[0m",
      "\u001b[0;31mKeyError\u001b[0m                                  Traceback (most recent call last)",
      "\u001b[1;32m/home/mk16/Documents/Source Files/DCI/P23-E05/live/algorithmic_thinking/algorithm-analysis.ipynb Cell 10\u001b[0m line \u001b[0;36m4\n\u001b[1;32m     <a href='vscode-notebook-cell:/home/mk16/Documents/Source%20Files/DCI/P23-E05/live/algorithmic_thinking/algorithm-analysis.ipynb#X11sZmlsZQ%3D%3D?line=45'>46</a>\u001b[0m \u001b[39mfor\u001b[39;00m user \u001b[39min\u001b[39;00m users:\n\u001b[1;32m     <a href='vscode-notebook-cell:/home/mk16/Documents/Source%20Files/DCI/P23-E05/live/algorithmic_thinking/algorithm-analysis.ipynb#X11sZmlsZQ%3D%3D?line=46'>47</a>\u001b[0m     \u001b[39mfor\u001b[39;00m item \u001b[39min\u001b[39;00m user[\u001b[39m\"\u001b[39m\u001b[39mitems\u001b[39m\u001b[39m\"\u001b[39m]:\n\u001b[0;32m---> <a href='vscode-notebook-cell:/home/mk16/Documents/Source%20Files/DCI/P23-E05/live/algorithmic_thinking/algorithm-analysis.ipynb#X11sZmlsZQ%3D%3D?line=47'>48</a>\u001b[0m         \u001b[39mprint\u001b[39m(item[\u001b[39m'\u001b[39m\u001b[39mtitle\u001b[39m\u001b[39m'\u001b[39m], \u001b[39m\"\u001b[39m\u001b[39m:\u001b[39m\u001b[39m\"\u001b[39m, item[\u001b[39m'\u001b[39;49m\u001b[39mreads\u001b[39;49m\u001b[39m'\u001b[39;49m])\n",
      "\u001b[0;31mKeyError\u001b[0m: 'reads'"
     ]
    }
   ],
   "source": [
    "users = [\n",
    "    {\n",
    "        \"name\": \"Clark\",\n",
    "        \"type\": \"Publisher\",\n",
    "        \"items\": [\n",
    "            {\n",
    "                \"title\": \"The ABC of Blockchain\",\n",
    "                \"status\": \"Draft\",\n",
    "                \"reads\": 10\n",
    "            }\n",
    "        ]\n",
    "    },\n",
    "    {\n",
    "        \"name\": \"Peter\",\n",
    "        \"type\": \"Publisher\",\n",
    "        \"items\": []\n",
    "    },\n",
    "    {\n",
    "        \"name\": \"Samantha\",\n",
    "        \"type\": \"Publisher\",\n",
    "        \"items\": [\n",
    "            {\n",
    "                \"title\": \"The ABC of JavaScript\",\n",
    "                \"status\": \"Published\",\n",
    "                \"reads\": 3254\n",
    "            },\n",
    "            {\n",
    "                \"title\": \"The XYZ of JavaScript\",\n",
    "                \"status\": \"Published\",\n",
    "                \"reads\": 226\n",
    "            }\n",
    "        ]\n",
    "    },\n",
    "    {\n",
    "        \"name\": \"Mathilda\",\n",
    "        \"type\": \"Reviewer\",\n",
    "        \"items\": [\n",
    "            {\n",
    "                \"title\": \"The ABC of Blockchain\",\n",
    "                \"status\": \"Pending\"\n",
    "            }\n",
    "        ]\n",
    "    }\n",
    "]\n",
    "\n",
    "for user in users:\n",
    "    items = user[\"items\"]\n",
    "    for item in items:\n",
    "        print(item['title'], \":\", item['reads'])"
   ]
  },
  {
   "cell_type": "markdown",
   "metadata": {},
   "source": [
    "#### Extra resources\n",
    "\n",
    "- https://compucademy.net/analysis-of-algorithms-with-python/\n",
    "- https://www.scaler.com/topics/analysis-of-algorithm/\n",
    "- https://www.datacamp.com/tutorial/analyzing-complexity-code-python\n",
    "- https://introcs.cs.princeton.edu/python/41analysis/"
   ]
  }
 ],
 "metadata": {
  "kernelspec": {
   "display_name": "Python 3",
   "language": "python",
   "name": "python3"
  },
  "language_info": {
   "codemirror_mode": {
    "name": "ipython",
    "version": 3
   },
   "file_extension": ".py",
   "mimetype": "text/x-python",
   "name": "python",
   "nbconvert_exporter": "python",
   "pygments_lexer": "ipython3",
   "version": "3.11.4"
  }
 },
 "nbformat": 4,
 "nbformat_minor": 2
}
