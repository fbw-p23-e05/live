{
 "cells": [
  {
   "cell_type": "markdown",
   "metadata": {},
   "source": [
    "# Search Problems\n",
    "- What is a Search algorithm?\n",
    "- Membership operators\n",
    "- Types of search algorithms:\n",
    "    - Sequential\n",
    "    - Interval\n",
    "- Implementation of Linear Search\n",
    "- Implementation of Binary Search"
   ]
  },
  {
   "cell_type": "markdown",
   "metadata": {},
   "source": [
    "## What is a Search Algorithm?\n",
    "- Set of procedures used to locate a specific element from a collection of data.\n",
    "- Designed to check for an element or retrieve an element from any data structure where it is stored."
   ]
  },
  {
   "cell_type": "markdown",
   "metadata": {},
   "source": [
    "### Membership Operators\n",
    "- Usually a function or keyword that returns a Boolean value (True/False) when an item is found in a given collection  of items."
   ]
  },
  {
   "cell_type": "code",
   "execution_count": 4,
   "metadata": {},
   "outputs": [
    {
     "name": "stdout",
     "output_type": "stream",
     "text": [
      "True\n",
      "False\n",
      "True\n",
      "False\n"
     ]
    }
   ],
   "source": [
    "word = 'apple'\n",
    "list_1 = ['cherries', 'banana', 'mango', 'apple', 'coconut']\n",
    "list_2 = ['pear', 'oranges', 'strawberry', 'blueberry']\n",
    "\n",
    "# in\n",
    "print(word in list_1)\n",
    "print(word  not in list_1)\n",
    "\n",
    "# not in\n",
    "print(word not in list_2)\n",
    "print(word in list_2)"
   ]
  },
  {
   "cell_type": "markdown",
   "metadata": {},
   "source": [
    "### Types of Search Algorithms\n",
    "- Sequential:\n",
    "    - traverses the collection in order of how the elements are stored. \n",
    "    - Every element is checked.\n",
    "    - for example: Linear Search\n",
    "\n",
    "- Interval:\n",
    "    - Performed on ordered data structure\n",
    "    - These are much more efficient as they divide the search space in half.\n",
    "    - for example: Binary Search\n"
   ]
  },
  {
   "cell_type": "markdown",
   "metadata": {},
   "source": [
    "#### Implementing Linear Search\n",
    "- We iterate over the given data collection and compare each value with the value to be searched\n",
    "- If a match is found, we return the index position of that element in the list.\n",
    "- Otherwise return -1 to indicate the element does not exist.\n",
    "\n",
    "![Linear Search](Linear-Search1.png)"
   ]
  },
  {
   "cell_type": "code",
   "execution_count": 13,
   "metadata": {},
   "outputs": [
    {
     "data": {
      "text/plain": [
       "8"
      ]
     },
     "execution_count": 13,
     "metadata": {},
     "output_type": "execute_result"
    }
   ],
   "source": [
    "def linear_search(numbers_list, element):\n",
    "    for i in range(len(numbers_list)):\n",
    "        if numbers_list[i] == element:\n",
    "            return i\n",
    "    return -1\n",
    "        \n",
    "list_1 = [3, 6, 7, 8, 1, 2, 10, 100, 80, 91, 33, 44]\n",
    "\n",
    "linear_search(list_1, 80)"
   ]
  },
  {
   "cell_type": "markdown",
   "metadata": {},
   "source": [
    "### Implementing Binary Search\n",
    "- We are given a collection of sorted elements\n",
    "- Set two variables start and end corresponding to the lowest and highest positions\n",
    "- Find the middle value of the collection ((start + end) // 2)\n",
    "- if the search value is greater than the middle value, set the pointers to the right of the middle, creating a new sub-collection. Otherwise, move to the left and create the new sub-list.\n",
    "- Keep comparing the middle value the search value until the search value is found.\n",
    "\n",
    "![Binary Search](BinarySearch.png)"
   ]
  },
  {
   "cell_type": "code",
   "execution_count": 26,
   "metadata": {},
   "outputs": [
    {
     "data": {
      "text/plain": [
       "1"
      ]
     },
     "execution_count": 26,
     "metadata": {},
     "output_type": "execute_result"
    }
   ],
   "source": [
    "def binary_search(numbers_list, element):\n",
    "    start = 0\n",
    "    end = len(numbers_list) - 1\n",
    "    index = -1 # None \n",
    "    \n",
    "    while (start <= end) and (index == -1):\n",
    "        middle = (start + end) // 2\n",
    "        if numbers_list[middle] == element:\n",
    "            index = middle\n",
    "            # return index\n",
    "        else: \n",
    "            if element < numbers_list[middle]:\n",
    "                end = middle - 1\n",
    "            else:\n",
    "                start = middle + 1\n",
    "    return index\n",
    "    \n",
    "\n",
    "list_1 = [10, 20, 30, 40, 50, 60, 70, 75, 80, 85, 90, 100]\n",
    "\n",
    "binary_search(list_1, 20)"
   ]
  },
  {
   "cell_type": "code",
   "execution_count": null,
   "metadata": {},
   "outputs": [],
   "source": []
  }
 ],
 "metadata": {
  "kernelspec": {
   "display_name": ".venv",
   "language": "python",
   "name": "python3"
  },
  "language_info": {
   "codemirror_mode": {
    "name": "ipython",
    "version": 3
   },
   "file_extension": ".py",
   "mimetype": "text/x-python",
   "name": "python",
   "nbconvert_exporter": "python",
   "pygments_lexer": "ipython3",
   "version": "3.11.4"
  }
 },
 "nbformat": 4,
 "nbformat_minor": 2
}
