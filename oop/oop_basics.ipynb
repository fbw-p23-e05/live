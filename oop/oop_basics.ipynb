{
 "cells": [
  {
   "cell_type": "markdown",
   "metadata": {},
   "source": [
    "# OOP - Object Oriented Programming\n",
    "- This method of structuring a program by bundling related properties and behaviours into individual objects. \n",
    "- Components of a system. \n",
    "- An object is any entity that has attributes(features) and behaviours. \n",
    "For example:\n",
    "    - Car:\n",
    "        - Attributes:\n",
    "            - model name\n",
    "            - make\n",
    "            - colour\n",
    "            - fuel type\n",
    "        - Behaviours:\n",
    "            - Start engine\n",
    "            - Turn left\n",
    "            - Turn right\n",
    "            - Drift\n",
    "\n",
    "####\n",
    "\n",
    "- Defining a class - blueprint for creating an object\n",
    "- Use classes to create new objects.\n",
    "- Inheritance "
   ]
  },
  {
   "cell_type": "code",
   "execution_count": 6,
   "metadata": {},
   "outputs": [
    {
     "name": "stdout",
     "output_type": "stream",
     "text": [
      "\n",
      "2.5\n"
     ]
    }
   ],
   "source": [
    "# Creating a class - blueprint\n",
    "class Car:\n",
    "    \n",
    "    # class attributes\n",
    "    name = \"\"\n",
    "    colour = \"\"\n",
    "    engine_cap = 0.0\n",
    " \n",
    "# creating an object   \n",
    "bmw = Car()\n",
    "bmw.name = \"X6\"\n",
    "\n",
    "# creating an object\n",
    "suzuki = Car()\n",
    "suzuki.engine_cap = 2.5\n",
    "\n",
    "\n",
    "print(suzuki.name)\n",
    "print(suzuki.engine_cap)\n",
    "    "
   ]
  },
  {
   "cell_type": "code",
   "execution_count": 5,
   "metadata": {},
   "outputs": [],
   "source": [
    "class Rental:\n",
    "    \n",
    "    # class attributes\n",
    "    num_of_days = 0\n",
    "    insurance = False\n",
    "    customer_name = \"\"\n",
    "    self_drive = True\n",
    "\n",
    "# creating/ instantiating an object   \n",
    "rental_1 = Rental() # always with parentheses\n",
    "rental_1.num_of_days = 15\n",
    "rental_1.insurance = True\n",
    "rental_1.customer_name = \"Jonathan\"\n",
    "rental_1.self_drive = False\n",
    "    "
   ]
  },
  {
   "cell_type": "code",
   "execution_count": 8,
   "metadata": {},
   "outputs": [
    {
     "name": "stdout",
     "output_type": "stream",
     "text": [
      "Carnivorous\n"
     ]
    }
   ],
   "source": [
    "class Animal:\n",
    "    \n",
    "    # class attribute\n",
    "    tail = True\n",
    "    species = \"Default\"\n",
    "    \n",
    "    # Constructor method\n",
    "    def __init__(self):\n",
    "        # Instance/object attributes\n",
    "        self.diet = \"Herbivorous\"\n",
    "        self.name = \"Rabbit\"\n",
    "        \n",
    "rabbit = Animal()\n",
    "rabbit.diet = \"Carnivorous\"\n",
    "print(rabbit.diet)\n",
    "    \n",
    "    "
   ]
  },
  {
   "cell_type": "code",
   "execution_count": 14,
   "metadata": {},
   "outputs": [
    {
     "name": "stdout",
     "output_type": "stream",
     "text": [
      "Dell screen size: 15 inch\n"
     ]
    }
   ],
   "source": [
    "class Computer:\n",
    "    \n",
    "    def __init__(self, ram = \"\", storage = \"\", processor = \"\"):\n",
    "        # Instance attributes\n",
    "        self.screen_size = \"15 inch\"\n",
    "        # self.ram = \"\"\n",
    "        self.storage = storage\n",
    "        self.processor = processor\n",
    "        \n",
    "dell = Computer(storage=\"1TB\", processor=\"i9\")\n",
    "dell.processor\n",
    "\n",
    "# macbook = Computer()\n",
    "# macbook.storage\n",
    "\n",
    "print(\"Dell screen size:\", dell.screen_size)\n",
    "# print(\"MacBook screen size:\", macbook.screen_size)"
   ]
  },
  {
   "cell_type": "markdown",
   "metadata": {},
   "source": [
    "## OOP Concepts\n",
    "\n",
    "- Inheritance - is a way of creating a new class uing the details of an existing class.\n",
    "- Polymorphism\n",
    "- Encapsulation\n",
    "- Abstraction"
   ]
  },
  {
   "cell_type": "code",
   "execution_count": 25,
   "metadata": {},
   "outputs": [
    {
     "name": "stdout",
     "output_type": "stream",
     "text": [
      "My name is Jack I am a Dog and I am eating.\n",
      "Woof, Woof!\n",
      "I love running!\n"
     ]
    }
   ],
   "source": [
    "## Inheritance\n",
    "\n",
    "# Parent/Base class\n",
    "class Animal:\n",
    "    \n",
    "    def __init__(self, species, diet, name):\n",
    "        self.species = species\n",
    "        self.diet = diet\n",
    "        self.name = name\n",
    "        \n",
    "    def eat(self):\n",
    "        print(\"My name is\", self.name, \"I am a\", self.species, \"and I am eating.\")\n",
    "    \n",
    "    def sleep(self):\n",
    "        print(\"My name is\", self.name, \"I am a\", self.species, \"and I am sleeping.\")\n",
    "        \n",
    "# Derived/Child class\n",
    "class Dog(Animal):\n",
    "    \n",
    "    def bark(self):\n",
    "        print(\"Woof, Woof!\")\n",
    "        \n",
    "    def run(self):\n",
    "        print(\"I love running!\")\n",
    "\n",
    "dog = Dog(\"Dog\", \"Carnivorous\", \"Jack\")\n",
    "dog.eat()\n",
    "dog.bark()\n",
    "dog.run()"
   ]
  },
  {
   "cell_type": "code",
   "execution_count": 32,
   "metadata": {},
   "outputs": [
    {
     "name": "stdout",
     "output_type": "stream",
     "text": [
      "This is the Exectuives report.\n",
      "None\n",
      "I'm the new reporting\n",
      "None\n"
     ]
    }
   ],
   "source": [
    "# Base\n",
    "class CompanySoftware:\n",
    "    \n",
    "    def __init__(self, dept_name, hod):\n",
    "        self.dept_name = dept_name\n",
    "        self.hod = hod\n",
    "        \n",
    "    def reporting(self):\n",
    "        print(\"This is the\", self.dept_name, \"report.\")\n",
    "        \n",
    "    def onboarding(self):\n",
    "        print(\"We are onboarding the new employee.\")\n",
    "\n",
    "# Child      \n",
    "class Accounting(CompanySoftware):\n",
    "    \n",
    "    acc_num = 102345\n",
    "    \n",
    "    def __init__(self):\n",
    "        pass\n",
    "    \n",
    "    def reporting(self):\n",
    "        print(\"I'm the new reporting\")\n",
    "    \n",
    "    def budgeting(self):\n",
    "        print(\"The company us limiting funds to $10000/department.\")\n",
    "\n",
    "# Child  \n",
    "class HumanResources(CompanySoftware):\n",
    "    \n",
    "    def hiring(self):\n",
    "        print(\"We have hired a new employee.\")\n",
    "\n",
    "company = CompanySoftware(\"Exectuives\", \"CEO\")\n",
    "accounting = Accounting()\n",
    "\n",
    "print(company.reporting())\n",
    "print(accounting.reporting())"
   ]
  },
  {
   "cell_type": "code",
   "execution_count": null,
   "metadata": {},
   "outputs": [],
   "source": []
  }
 ],
 "metadata": {
  "kernelspec": {
   "display_name": ".venv",
   "language": "python",
   "name": "python3"
  },
  "language_info": {
   "codemirror_mode": {
    "name": "ipython",
    "version": 3
   },
   "file_extension": ".py",
   "mimetype": "text/x-python",
   "name": "python",
   "nbconvert_exporter": "python",
   "pygments_lexer": "ipython3",
   "version": "3.11.4"
  }
 },
 "nbformat": 4,
 "nbformat_minor": 2
}
