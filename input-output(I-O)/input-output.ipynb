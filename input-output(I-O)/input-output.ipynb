{
 "cells": [
  {
   "cell_type": "markdown",
   "metadata": {},
   "source": [
    "## Opening a file in Python\n",
    "- using the `open()` method"
   ]
  },
  {
   "cell_type": "code",
   "execution_count": 2,
   "metadata": {},
   "outputs": [
    {
     "name": "stdout",
     "output_type": "stream",
     "text": [
      "<_io.TextIOWrapper name='example.txt' mode='r' encoding='UTF-8'>\n"
     ]
    }
   ],
   "source": [
    "# open a file in the current directory\n",
    "file_1 = open('example.txt')\n",
    "print(file_1)\n",
    "\n",
    "file_1 = open(file='example.txt', mode='r')"
   ]
  },
  {
   "cell_type": "markdown",
   "metadata": {},
   "source": [
    "- We have created file object named file_1. \n",
    "- By default files are opened in `read` mode(cannot modify the file)"
   ]
  },
  {
   "cell_type": "markdown",
   "metadata": {},
   "source": [
    "| Mode | Description |\n",
    "|------|-------------|\n",
    "| `r`  | Opening a file for reading. (default) |\n",
    "| `w`  | Opening a file for writing. Creating a file a if doesn't exist or truncates the file if it does exist. |\n",
    "| `x`  | Opens a file for exclusive creation. If it exists the operation fails. |\n",
    "| `a`  | Opens a file for appending at the end of the file without truncating it. Creates a file if it does not exist. |\n",
    "| `t`  | Open in text mode. (default) |\n",
    "| `b`  | Open in binary mode. |\n",
    "| `+`  | Opens a file for updating. (read and write) |\n"
   ]
  },
  {
   "cell_type": "code",
   "execution_count": 3,
   "metadata": {},
   "outputs": [],
   "source": [
    "file_1 = open('example.txt')  # equivalent to 'r' or 'rt'\n",
    "file_1 = open('example.txt', 'w') # write in text mode\n",
    "file_2 = open('BMP.png', 'r+b') # equivalent of read and write in binary mode"
   ]
  },
  {
   "cell_type": "markdown",
   "metadata": {},
   "source": [
    "## Reading Files in Python\n",
    "- After we open a file, we use the `read()` method to read the contents.\n"
   ]
  },
  {
   "cell_type": "code",
   "execution_count": 7,
   "metadata": {},
   "outputs": [
    {
     "name": "stdout",
     "output_type": "stream",
     "text": [
      "This is a test file.\n",
      "Let's do some magic.\n",
      "T\n",
      "h\n",
      "i\n",
      "s\n",
      " \n",
      "i\n",
      "s\n",
      " \n",
      "a\n",
      " \n",
      "t\n",
      "e\n",
      "s\n",
      "t\n",
      " \n",
      "f\n",
      "i\n",
      "l\n",
      "e\n",
      ".\n",
      "\n",
      "\n",
      "L\n",
      "e\n",
      "t\n",
      "'\n",
      "s\n",
      " \n",
      "d\n",
      "o\n",
      " \n",
      "s\n",
      "o\n",
      "m\n",
      "e\n",
      " \n",
      "m\n",
      "a\n",
      "g\n",
      "i\n",
      "c\n",
      ".\n"
     ]
    }
   ],
   "source": [
    "# opened the file\n",
    "file_1 = open('example.txt', 'r')\n",
    "\n",
    "# read the file\n",
    "content = file_1.read()\n",
    "\n",
    "print(content)\n",
    "\n",
    "for letter in content:\n",
    "    print(letter)"
   ]
  },
  {
   "cell_type": "code",
   "execution_count": 42,
   "metadata": {},
   "outputs": [
    {
     "name": "stdout",
     "output_type": "stream",
     "text": [
      "Apple\n"
     ]
    }
   ],
   "source": [
    "with open('ingredients.txt', 'r') as file_4:\n",
    "    content = file_4.readline(5) # returns n characters of the first line\n",
    "    print(content)"
   ]
  },
  {
   "cell_type": "code",
   "execution_count": 44,
   "metadata": {},
   "outputs": [
    {
     "name": "stdout",
     "output_type": "stream",
     "text": [
      "['Apple Sauce \\n', 'Vinegar \\n', 'Flour \\n', 'Sugar \\n', 'Salt ']\n"
     ]
    }
   ],
   "source": [
    "with open('ingredients.txt', 'r') as file_4:\n",
    "    content = file_4.readlines() # returns a list\n",
    "    print(content)"
   ]
  },
  {
   "cell_type": "markdown",
   "metadata": {},
   "source": [
    "## Close the files in Python\n",
    "- Closing a file will free up resources that were tied to the file.\n",
    "- We use the `close()` method to close files."
   ]
  },
  {
   "cell_type": "code",
   "execution_count": 9,
   "metadata": {},
   "outputs": [
    {
     "name": "stdout",
     "output_type": "stream",
     "text": [
      "This is a test file.\n",
      "Let's do some magic.\n"
     ]
    }
   ],
   "source": [
    "# open a file\n",
    "file_1 = open('example.txt', 'r')\n",
    "\n",
    "# read the file\n",
    "content = file_1.read()\n",
    "print(content)\n",
    "\n",
    "# close the file\n",
    "file_1.close()\n",
    "file_2.close()"
   ]
  },
  {
   "cell_type": "markdown",
   "metadata": {},
   "source": [
    "- Good practice dictates that whenever we open a file, we must also close it."
   ]
  },
  {
   "cell_type": "markdown",
   "metadata": {},
   "source": [
    "## with...open Syntax\n",
    "- `with...open()` is used to automatically close the file after operations are performed."
   ]
  },
  {
   "cell_type": "code",
   "execution_count": 17,
   "metadata": {},
   "outputs": [
    {
     "name": "stdout",
     "output_type": "stream",
     "text": [
      "<_io.TextIOWrapper name='example.txt' mode='r' encoding='UTF-8'>\n",
      "This is a test file.\n",
      "Let's do some magic.\n",
      "This is a test file.\n",
      "Let's do some magic.\n"
     ]
    }
   ],
   "source": [
    "with open('example.txt', 'r') as file_1:\n",
    "    content = file_1.read()\n",
    "    print(content)"
   ]
  },
  {
   "cell_type": "markdown",
   "metadata": {},
   "source": [
    "## Writing to Files in Python\n",
    "\n",
    "2 things to remember:\n",
    "- If we try open a file that does  not exist, a new file is created.\n",
    "- IF a file already exists, its content is erased and new content is added to it.\n",
    "\n",
    "> We need open the file in write `w` mode"
   ]
  },
  {
   "cell_type": "code",
   "execution_count": 20,
   "metadata": {},
   "outputs": [],
   "source": [
    "with open(file='example.txt', mode='w') as file_1:\n",
    "    # write contents to file\n",
    "    file_1.write('Python is the best language out there!\\n')\n",
    "    file_1.write('HTML is not a programming language.')"
   ]
  },
  {
   "cell_type": "code",
   "execution_count": 21,
   "metadata": {},
   "outputs": [],
   "source": [
    "with open(file='example_2.txt', mode='w') as file_2:\n",
    "    # write contents to file\n",
    "    text = \"This is a lovely way to manipulate files. Python Rocks!\"\n",
    "    file_2.write(text)"
   ]
  },
  {
   "cell_type": "code",
   "execution_count": 29,
   "metadata": {},
   "outputs": [
    {
     "name": "stdout",
     "output_type": "stream",
     "text": [
      "False\n"
     ]
    }
   ],
   "source": [
    "with open('new.md', 'w') as file_3:\n",
    "    file_3.write(\"# Manipulating a markdown file.\")\n",
    "    print(file_3.readable())"
   ]
  },
  {
   "cell_type": "code",
   "execution_count": 27,
   "metadata": {},
   "outputs": [],
   "source": [
    "with open('example_2.txt', 'a') as file_2:\n",
    "    file_2.write(\"Trying out the append mode!\")    "
   ]
  },
  {
   "cell_type": "code",
   "execution_count": 30,
   "metadata": {},
   "outputs": [],
   "source": [
    "with open('ingredients.txt', 'w') as file_4:\n",
    "    file_4.write('Apple Sauce\\n Vinegar\\n Salt\\n Sugar\\n Flour')"
   ]
  },
  {
   "cell_type": "code",
   "execution_count": 31,
   "metadata": {},
   "outputs": [],
   "source": [
    "with open('ingredients.txt', 'w') as file_4:\n",
    "    file_4.write(\"Vinegar\")\n",
    "    file_4.write('Flour')\n",
    "    file_4.write('Sugar')\n",
    "    file_4.write('Salt')\n",
    "    file_4.write('Apple Sauce')"
   ]
  },
  {
   "cell_type": "code",
   "execution_count": 33,
   "metadata": {},
   "outputs": [],
   "source": [
    "ingredients_list = ['Apple Sauce ', 'Vinegar ', 'Flour ', 'Sugar ', 'Salt']\n",
    "with open('ingredients.txt', 'w') as file_4:\n",
    "    file_4.writelines(ingredients_list)"
   ]
  },
  {
   "cell_type": "markdown",
   "metadata": {},
   "source": [
    "## Encoding\n",
    "- The process of converting/processing data into a specific format required for efficient data transmission or storage.\n"
   ]
  },
  {
   "cell_type": "code",
   "execution_count": null,
   "metadata": {},
   "outputs": [],
   "source": [
    "with open(file='example_2.txt', mode='r', encoding=\"utf-8\") as file_5:\n",
    "    content = file_5.read()"
   ]
  },
  {
   "cell_type": "markdown",
   "metadata": {},
   "source": [
    "### Text methods\n",
    "\n",
    "| Method | Description |\n",
    "|--------|-------------|\n",
    "| `close()` | Closes an opened file. It has no effect if the file is already closed. |\n",
    "| `detach()` | Separates the underlying binary buffer from the TextIOBase and returns it. |\n",
    "| `fileno()` | Returns an integer number (file descriptor) of the file. |\n",
    "| `flush()` | Flushes the write buffer of the file stream. |\n",
    "| `isatty()` | Returns True if the file stream is interactive. |\n",
    "| `read(n)` | Reads at most n characters from the file. Reads till end of file if it is negative or None. |\n",
    "| `readable()` | Returns True if the file stream can be read from. |\n",
    "| `readline(n=-1)` | Reads and returns one line from the file. Reads in at most n bytes if specified. |\n",
    "| `readlines(n=-1)` | Reads and returns a list of lines from the file. Reads in at most n bytes/characters if specified. |\n",
    "| `seek(offset,from=SEEK_SET)` | Changes the file position to offset bytes, in reference to from (start, current, end). |\n",
    "| `seekable()` | Returns True if the file stream supports random access. |\n",
    "| `tell()` | Returns an integer that represents the current position of the file's object. |\n",
    "| `truncate(size=None)` | Resizes the file stream to size bytes. If size is not specified, resizes to current location. |\n",
    "| `writable()` | Returns True if the file stream can be written to. |\n",
    "| `write(s)` | Writes the string s to the file and returns the number of characters written. |\n",
    "| `writelines(lines)` | Writes a list of lines to the file. |"
   ]
  },
  {
   "cell_type": "markdown",
   "metadata": {},
   "source": []
  }
 ],
 "metadata": {
  "kernelspec": {
   "display_name": ".venv",
   "language": "python",
   "name": "python3"
  },
  "language_info": {
   "codemirror_mode": {
    "name": "ipython",
    "version": 3
   },
   "file_extension": ".py",
   "mimetype": "text/x-python",
   "name": "python",
   "nbconvert_exporter": "python",
   "pygments_lexer": "ipython3",
   "version": "3.11.4"
  }
 },
 "nbformat": 4,
 "nbformat_minor": 2
}
