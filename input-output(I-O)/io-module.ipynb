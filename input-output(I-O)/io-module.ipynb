{
 "cells": [
  {
   "cell_type": "markdown",
   "metadata": {},
   "source": [
    "# IO module\n",
    "- Provides various sets of Classes and Methods for managing files related to input and output operations.\n",
    "- Enables us write data to unicode.\n",
    "- Encoding and decoding of Unicode data.\n",
    "\n",
    "1. BytesIO - `io.BytesIO`\n",
    "2. StringIO - `io.StringIO`"
   ]
  },
  {
   "cell_type": "code",
   "execution_count": 1,
   "metadata": {},
   "outputs": [],
   "source": [
    "# import io module\n",
    "import io"
   ]
  },
  {
   "cell_type": "markdown",
   "metadata": {},
   "source": [
    "## BytesIO Class\n",
    "\n",
    "- Provides a stream like interface for handling binary data in memory.\n",
    "- Treats bytes data as a file like object that enables reading and writing operations on bytes - without using the physical."
   ]
  },
  {
   "cell_type": "code",
   "execution_count": 7,
   "metadata": {},
   "outputs": [
    {
     "name": "stdout",
     "output_type": "stream",
     "text": [
      "<_io.BytesIO object at 0x7f1aef117330>\n"
     ]
    },
    {
     "data": {
      "text/plain": [
       "True"
      ]
     },
     "execution_count": 7,
     "metadata": {},
     "output_type": "execute_result"
    }
   ],
   "source": [
    "# Create and writing to a file object\n",
    "byte_str = io.BytesIO(b'Pytech\\x0ARocks!')\n",
    "print(byte_str)\n",
    "\n",
    "# reading the contents of the file\n",
    "byte_str.getvalue()\n",
    "\n",
    "# Close the file\n",
    "byte_str.close()\n",
    "\n",
    "# Check if file is closed\n",
    "byte_str.closed"
   ]
  },
  {
   "cell_type": "markdown",
   "metadata": {},
   "source": [
    "## StringIO Class\n",
    "\n",
    "- Similar to the BtyesIO class.\n",
    "- Delivers methods for reading from and writing to an in-memory buffer.\n"
   ]
  },
  {
   "cell_type": "code",
   "execution_count": 12,
   "metadata": {},
   "outputs": [
    {
     "name": "stdout",
     "output_type": "stream",
     "text": [
      "The quick \n"
     ]
    },
    {
     "data": {
      "text/plain": [
       "True"
      ]
     },
     "execution_count": 12,
     "metadata": {},
     "output_type": "execute_result"
    }
   ],
   "source": [
    "str_1 = \"The quick brown fox jumps over the lazy dog!\"\n",
    "\n",
    "# Created and wrote to a file object\n",
    "file_1 = io.StringIO(str_1)\n",
    "\n",
    "# Read from the file object\n",
    "print(file_1.read(10))\n",
    "\n",
    "# Close the file object\n",
    "file_1.close()\n",
    "file_1.closed"
   ]
  },
  {
   "cell_type": "code",
   "execution_count": 38,
   "metadata": {},
   "outputs": [],
   "source": [
    "# chr(5)\n",
    "\n",
    "# file = io.BytesIO(b\"My favourite number is \\x05\") # stores the bytes represantation\n",
    "# file_2 = io.StringIO(\"My favourite number is 5\") # stores plain text/strings\n",
    "# print(file.getvalue())\n",
    "# print(file_2.read())"
   ]
  },
  {
   "cell_type": "code",
   "execution_count": 56,
   "metadata": {},
   "outputs": [
    {
     "name": "stdout",
     "output_type": "stream",
     "text": [
      "Python Rocks\u0000We love it\n"
     ]
    }
   ],
   "source": [
    "file_4 = io.StringIO(\"Python Rocks\")\n",
    "file_4.seek(13)\n",
    "file_4.write(\"We love it\") # Write or append\n",
    "# file_4.seek(0)\n",
    "print(file_4.getvalue())\n",
    "file_4.close()"
   ]
  },
  {
   "cell_type": "code",
   "execution_count": 58,
   "metadata": {},
   "outputs": [
    {
     "data": {
      "text/plain": [
       "b'Python is the best language out there!\\nHTML is not a programming language.'"
      ]
     },
     "execution_count": 58,
     "metadata": {},
     "output_type": "execute_result"
    }
   ],
   "source": [
    "file_5 = io.open('example.txt', 'rb', buffering=3)\n",
    "file_5.read()\n",
    "file_5.close()"
   ]
  },
  {
   "cell_type": "code",
   "execution_count": null,
   "metadata": {},
   "outputs": [],
   "source": []
  }
 ],
 "metadata": {
  "kernelspec": {
   "display_name": ".venv",
   "language": "python",
   "name": "python3"
  },
  "language_info": {
   "codemirror_mode": {
    "name": "ipython",
    "version": 3
   },
   "file_extension": ".py",
   "mimetype": "text/x-python",
   "name": "python",
   "nbconvert_exporter": "python",
   "pygments_lexer": "ipython3",
   "version": "3.11.4"
  }
 },
 "nbformat": 4,
 "nbformat_minor": 2
}
