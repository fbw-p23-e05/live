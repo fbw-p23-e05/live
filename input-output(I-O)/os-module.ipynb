{
 "cells": [
  {
   "cell_type": "markdown",
   "metadata": {},
   "source": [
    "# os module\n",
    "- Built-in Python module\n",
    "- provides methods for Directory Management"
   ]
  },
  {
   "cell_type": "code",
   "execution_count": 1,
   "metadata": {},
   "outputs": [],
   "source": [
    "import os"
   ]
  },
  {
   "cell_type": "markdown",
   "metadata": {},
   "source": [
    "# Get current directory\n",
    "- we use the `getcwd()` method of the OS module to get the Current Working Directory(CWD)\n",
    "- We can also use `getcwdb()` method - return a byte string that represents the CWD.\n",
    "- Returns th directory where the code is run from."
   ]
  },
  {
   "cell_type": "code",
   "execution_count": 3,
   "metadata": {},
   "outputs": [
    {
     "name": "stdout",
     "output_type": "stream",
     "text": [
      "Current working directory in string format:  /home/mk16/Documents/Source Files/DCI/P23-E05/live/input-output(I-O)\n",
      "CWD in byte string format:  b'/home/mk16/Documents/Source Files/DCI/P23-E05/live/input-output(I-O)'\n"
     ]
    }
   ],
   "source": [
    "print(\"CWD in string format: \", os.getcwd())\n",
    "print(\"CWD in byte string format: \", os.getcwdb())"
   ]
  },
  {
   "cell_type": "markdown",
   "metadata": {},
   "source": [
    "# Changing Directory\n",
    "- to change directory use the `os.chdir()` method.\n",
    "- Pass the path to the new directory as a string."
   ]
  },
  {
   "cell_type": "code",
   "execution_count": 8,
   "metadata": {},
   "outputs": [
    {
     "name": "stdout",
     "output_type": "stream",
     "text": [
      "Initial Directory:  /home/mk16/Documents/Source Files/DCI/P23-E05/live/input-output(I-O)\n",
      "Current directory:  /home/mk16/Documents/Source Files/DCI/P23-E05/live\n"
     ]
    }
   ],
   "source": [
    "# print initial directory\n",
    "print(\"Initial Directory: \", os.getcwd())\n",
    "\n",
    "# Changing directory\n",
    "os.chdir('/home/mk16/Documents/Source Files/DCI/P23-E05/live/input-output(I-O)')\n",
    "\n",
    "os.chdir('..')\n",
    "\n",
    "os.chdir('exercises/')\n",
    "\n",
    "print(\"Current directory: \", os.getcwd())\n"
   ]
  },
  {
   "cell_type": "markdown",
   "metadata": {},
   "source": [
    "# Listing Directories and Files\n",
    "- we use the `listdir()` method retrieve the subdirectories and files contained in a directory.\n",
    "- It takes 0 or 1 parameters.\n",
    "- If no parameter is passed it returns the contents of the CWD.\n",
    "- To get contents of a different directory pass the path as a parameter.\n",
    "- Returns the contents as a list."
   ]
  },
  {
   "cell_type": "code",
   "execution_count": 11,
   "metadata": {},
   "outputs": [
    {
     "name": "stdout",
     "output_type": "stream",
     "text": [
      "['new.md', 'input-output.ipynb', 'example.txt', 'BMP.png', '.venv', 'example_2.txt', 'os-module.ipynb', '.gitignore', 'ingredients.txt', 'exercises', 'README.md']\n",
      "['new.md', 'input-output.ipynb', 'example.txt', 'BMP.png', '.venv', 'example_2.txt', 'os-module.ipynb', '.gitignore', 'ingredients.txt', 'exercises', 'README.md']\n"
     ]
    }
   ],
   "source": [
    "print(os.listdir()) # Return contents of current working directory\n",
    "print(os.listdir(os.getcwd())) # Return contents of current working directory"
   ]
  },
  {
   "cell_type": "markdown",
   "metadata": {},
   "source": [
    "# Making a new directory\n",
    "- we use `mkdir()` to create a new directory.\n",
    "- Pass the name of the new directory as a parameter.\n",
    "- the path of the new directory must contain forward slashes instead of backward slashes.\n",
    "- If the full path is not specified, the new directory will be created in the CWD.\n",
    "- We can only create one subdirectory at a time."
   ]
  },
  {
   "cell_type": "code",
   "execution_count": 18,
   "metadata": {},
   "outputs": [],
   "source": [
    "os.mkdir('dummy_dir')\n",
    "os.mkdir('dummy_dir/new_folder')\n",
    "os.mkdir('dummy_dir/new_folder/Last_folder')"
   ]
  },
  {
   "cell_type": "markdown",
   "metadata": {},
   "source": [
    "# Renaming a Directory of File\n",
    "- We use the `os.rename()` method to rename files or directories.\n",
    "- 2 arguments are passed, 1. the old name of the file or dir 2. the new name.\n",
    "- If the directory of file with the new name already exists the OSError will be thrown in some operating systems."
   ]
  },
  {
   "cell_type": "code",
   "execution_count": 19,
   "metadata": {},
   "outputs": [],
   "source": [
    "os.rename('BMP.png','bmp_1.png')"
   ]
  },
  {
   "cell_type": "code",
   "execution_count": 21,
   "metadata": {},
   "outputs": [],
   "source": [
    "# os.renames('old_name', 'destination_directory/new_name')\n",
    "os.renames('dummy.txt', 'dummy_dir/new_file.txt')"
   ]
  },
  {
   "cell_type": "markdown",
   "metadata": {},
   "source": [
    "# Removing a Directory or File\n",
    "- To remove/delete a directory of file use the `os.rmdir()`.\n",
    "- Takes one parameter - the path of the directory to be removed.\n",
    "- It deletes only empty directories.\n",
    "- Throws an OSError if the directory is not empty"
   ]
  },
  {
   "cell_type": "code",
   "execution_count": 25,
   "metadata": {},
   "outputs": [
    {
     "name": "stdout",
     "output_type": "stream",
     "text": [
      "Directory not empty\n"
     ]
    }
   ],
   "source": [
    "os.rmdir('dummy_dir/new_folder')\n",
    "\n",
    "if len(os.listdir('dummy_dir')) != 0:\n",
    "    print(\"Directory not empty\")\n",
    "else:\n",
    "    os.rmdir('dummy_dir')\n"
   ]
  },
  {
   "cell_type": "code",
   "execution_count": 26,
   "metadata": {},
   "outputs": [],
   "source": [
    "# Remove is used for files\n",
    "os.remove('dummy_dir/new_file.txt')"
   ]
  },
  {
   "cell_type": "code",
   "execution_count": 28,
   "metadata": {},
   "outputs": [],
   "source": [
    "# consumes the whole path passed as a parameter if all folders are empty\n",
    "os.removedirs('dummy_dir/new_folder/next_folder/last_folder/')"
   ]
  },
  {
   "cell_type": "code",
   "execution_count": null,
   "metadata": {},
   "outputs": [],
   "source": []
  }
 ],
 "metadata": {
  "kernelspec": {
   "display_name": ".venv",
   "language": "python",
   "name": "python3"
  },
  "language_info": {
   "codemirror_mode": {
    "name": "ipython",
    "version": 3
   },
   "file_extension": ".py",
   "mimetype": "text/x-python",
   "name": "python",
   "nbconvert_exporter": "python",
   "pygments_lexer": "ipython3",
   "version": "3.11.4"
  }
 },
 "nbformat": 4,
 "nbformat_minor": 2
}
